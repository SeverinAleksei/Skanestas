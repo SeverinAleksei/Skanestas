{
 "cells": [
  {
   "cell_type": "markdown",
   "id": "50d95d5e-5562-480a-be3c-5f929b6ec275",
   "metadata": {},
   "source": [
    "Тестовое задание для кандидатов на вакансию Quantitative Analyst / Data scientist <br>\n",
    "Алексей Северин"
   ]
  },
  {
   "cell_type": "markdown",
   "id": "ea5056a4-17cf-4579-a886-f73257533ffb",
   "metadata": {
    "tags": []
   },
   "source": [
    "## Подключение библиотек и Загрузка данных"
   ]
  },
  {
   "cell_type": "code",
   "execution_count": 1,
   "id": "47a96985-bbd1-4673-a34a-814e87fb21bc",
   "metadata": {
    "tags": []
   },
   "outputs": [],
   "source": [
    "import pandas as pd\n",
    "import numpy as np\n",
    "from tqdm import tqdm\n",
    "import matplotlib.pyplot as plt\n",
    "from datetime import datetime\n",
    "from matplotlib.dates import DateFormatter\n",
    "import seaborn as sb\n",
    "from sklearn.metrics import confusion_matrix\n",
    "\n",
    "\n",
    "file = pd.read_csv(\"QA-DS-TASK-DATA-FROM-2020-REDUCED-COLUMNS.csv\")\n",
    "ticker_names = [\"China\",\"SP500\",\"Note\"]\n",
    "file[\"Ticker\"] = [ticker_names[0] if i == \"FTSE CHINA A50 INDEX FUTURES\" else ticker_names[1] if i == 'E-MINI S&P 500 FUTURES' else ticker_names[2] for i in file[\"Ticker Full Name\"]]"
   ]
  },
  {
   "cell_type": "code",
   "execution_count": 2,
   "id": "758a9412-8db4-48c5-b129-919cf7f5f8c2",
   "metadata": {
    "tags": []
   },
   "outputs": [
    {
     "data": {
      "text/html": [
       "<div>\n",
       "<style scoped>\n",
       "    .dataframe tbody tr th:only-of-type {\n",
       "        vertical-align: middle;\n",
       "    }\n",
       "\n",
       "    .dataframe tbody tr th {\n",
       "        vertical-align: top;\n",
       "    }\n",
       "\n",
       "    .dataframe thead th {\n",
       "        text-align: right;\n",
       "    }\n",
       "</style>\n",
       "<table border=\"1\" class=\"dataframe\">\n",
       "  <thead>\n",
       "    <tr style=\"text-align: right;\">\n",
       "      <th></th>\n",
       "      <th>Timestamp</th>\n",
       "      <th>Close Candle</th>\n",
       "      <th>Ticker Full Name</th>\n",
       "      <th>Ticker</th>\n",
       "    </tr>\n",
       "  </thead>\n",
       "  <tbody>\n",
       "    <tr>\n",
       "      <th>0</th>\n",
       "      <td>2020-01-01 18:01:00</td>\n",
       "      <td>128.312</td>\n",
       "      <td>10 YEAR TREASURY NOTE FUTURES</td>\n",
       "      <td>Note</td>\n",
       "    </tr>\n",
       "    <tr>\n",
       "      <th>1</th>\n",
       "      <td>2020-01-01 18:02:00</td>\n",
       "      <td>128.312</td>\n",
       "      <td>10 YEAR TREASURY NOTE FUTURES</td>\n",
       "      <td>Note</td>\n",
       "    </tr>\n",
       "    <tr>\n",
       "      <th>2</th>\n",
       "      <td>2020-01-01 18:03:00</td>\n",
       "      <td>128.312</td>\n",
       "      <td>10 YEAR TREASURY NOTE FUTURES</td>\n",
       "      <td>Note</td>\n",
       "    </tr>\n",
       "    <tr>\n",
       "      <th>3</th>\n",
       "      <td>2020-01-01 18:04:00</td>\n",
       "      <td>128.312</td>\n",
       "      <td>10 YEAR TREASURY NOTE FUTURES</td>\n",
       "      <td>Note</td>\n",
       "    </tr>\n",
       "    <tr>\n",
       "      <th>4</th>\n",
       "      <td>2020-01-01 18:05:00</td>\n",
       "      <td>128.328</td>\n",
       "      <td>10 YEAR TREASURY NOTE FUTURES</td>\n",
       "      <td>Note</td>\n",
       "    </tr>\n",
       "  </tbody>\n",
       "</table>\n",
       "</div>"
      ],
      "text/plain": [
       "             Timestamp  Close Candle               Ticker Full Name Ticker\n",
       "0  2020-01-01 18:01:00       128.312  10 YEAR TREASURY NOTE FUTURES   Note\n",
       "1  2020-01-01 18:02:00       128.312  10 YEAR TREASURY NOTE FUTURES   Note\n",
       "2  2020-01-01 18:03:00       128.312  10 YEAR TREASURY NOTE FUTURES   Note\n",
       "3  2020-01-01 18:04:00       128.312  10 YEAR TREASURY NOTE FUTURES   Note\n",
       "4  2020-01-01 18:05:00       128.328  10 YEAR TREASURY NOTE FUTURES   Note"
      ]
     },
     "execution_count": 2,
     "metadata": {},
     "output_type": "execute_result"
    }
   ],
   "source": [
    "file.head()"
   ]
  },
  {
   "cell_type": "markdown",
   "id": "7e6b1f4d-5cc8-495d-8983-f764f6902554",
   "metadata": {
    "tags": []
   },
   "source": [
    "## Предпроцессинг данных\n"
   ]
  },
  {
   "cell_type": "markdown",
   "id": "9fd009df-9be8-48ed-8b8a-65fad4c94cce",
   "metadata": {
    "tags": []
   },
   "source": [
    "### Преобразование изначальную таблицы"
   ]
  },
  {
   "cell_type": "markdown",
   "id": "7b3e1380-8f12-4433-b926-b766d0a4d47d",
   "metadata": {},
   "source": [
    "Для удобства дальнейшей работы необходимо преобразовать начальную таблицу к виду, где напротив каждого времени стоят значения цен для трех инструментов <br>\n",
    "\n",
    "Шаги преобразования: <br>\n",
    "\n",
    "1) Находим уникальные даты и сортируем их <br>\n",
    "\n",
    "2) Создаем новую таблицу с индексами равными уникальным датам <br>\n",
    "\n",
    "3) Переносим записи из изначальной таблицы в созданную,где цены распределены по колонкам инструментов <br>"
   ]
  },
  {
   "cell_type": "code",
   "execution_count": 3,
   "id": "36eff5aa-4c39-4732-9eca-2e96a27638e2",
   "metadata": {},
   "outputs": [
    {
     "name": "stderr",
     "output_type": "stream",
     "text": [
      "100%|█████████████████████████████████████████████████████████████████████████████████████████████████████████████████████████████████████████████████████████████| 1756857/1756857 [02:41<00:00, 10904.35it/s]\n"
     ]
    }
   ],
   "source": [
    "#1\n",
    "unique_data = sorted(np.unique(file[\"Timestamp\"]))\n",
    "concat_data = pd.DataFrame()\n",
    "concat_data[\"Time\"] = unique_data\n",
    "for i in range(len(ticker_names)):\n",
    "    concat_data[ticker_names[i]] = [0 for i in range(len(unique_data))]\n",
    "\n",
    "#2\n",
    "concat_data.index = concat_data[\"Time\"]\n",
    "\n",
    "#3\n",
    "#Следующая операция занимает 3 минуты. Не самое быстрое решение, возможно есть способ это сделать быстрее\n",
    "for i in tqdm(range(len(file))):\n",
    "    date = file.loc[i,\"Timestamp\"]\n",
    "    ticker = file.loc[i,\"Ticker\"]\n",
    "    price = file.loc[i,\"Close Candle\"]\n",
    "   # print(date,ticker,price)\n",
    "    concat_data.loc[date, ticker] = price\n",
    "        "
   ]
  },
  {
   "cell_type": "code",
   "execution_count": 4,
   "id": "74ace916-7272-465c-8405-0b08a2127436",
   "metadata": {},
   "outputs": [
    {
     "data": {
      "text/html": [
       "<div>\n",
       "<style scoped>\n",
       "    .dataframe tbody tr th:only-of-type {\n",
       "        vertical-align: middle;\n",
       "    }\n",
       "\n",
       "    .dataframe tbody tr th {\n",
       "        vertical-align: top;\n",
       "    }\n",
       "\n",
       "    .dataframe thead th {\n",
       "        text-align: right;\n",
       "    }\n",
       "</style>\n",
       "<table border=\"1\" class=\"dataframe\">\n",
       "  <thead>\n",
       "    <tr style=\"text-align: right;\">\n",
       "      <th></th>\n",
       "      <th>Time</th>\n",
       "      <th>China</th>\n",
       "      <th>SP500</th>\n",
       "      <th>Note</th>\n",
       "    </tr>\n",
       "    <tr>\n",
       "      <th>Time</th>\n",
       "      <th></th>\n",
       "      <th></th>\n",
       "      <th></th>\n",
       "      <th></th>\n",
       "    </tr>\n",
       "  </thead>\n",
       "  <tbody>\n",
       "    <tr>\n",
       "      <th>2020-01-01 18:01:00</th>\n",
       "      <td>2020-01-01 18:01:00</td>\n",
       "      <td>0.0</td>\n",
       "      <td>3236.25</td>\n",
       "      <td>128.312</td>\n",
       "    </tr>\n",
       "    <tr>\n",
       "      <th>2020-01-01 18:02:00</th>\n",
       "      <td>2020-01-01 18:02:00</td>\n",
       "      <td>0.0</td>\n",
       "      <td>3234.75</td>\n",
       "      <td>128.312</td>\n",
       "    </tr>\n",
       "    <tr>\n",
       "      <th>2020-01-01 18:03:00</th>\n",
       "      <td>2020-01-01 18:03:00</td>\n",
       "      <td>0.0</td>\n",
       "      <td>3235.25</td>\n",
       "      <td>128.312</td>\n",
       "    </tr>\n",
       "    <tr>\n",
       "      <th>2020-01-01 18:04:00</th>\n",
       "      <td>2020-01-01 18:04:00</td>\n",
       "      <td>0.0</td>\n",
       "      <td>3236.00</td>\n",
       "      <td>128.312</td>\n",
       "    </tr>\n",
       "    <tr>\n",
       "      <th>2020-01-01 18:05:00</th>\n",
       "      <td>2020-01-01 18:05:00</td>\n",
       "      <td>0.0</td>\n",
       "      <td>3235.50</td>\n",
       "      <td>128.328</td>\n",
       "    </tr>\n",
       "  </tbody>\n",
       "</table>\n",
       "</div>"
      ],
      "text/plain": [
       "                                    Time  China    SP500     Note\n",
       "Time                                                             \n",
       "2020-01-01 18:01:00  2020-01-01 18:01:00    0.0  3236.25  128.312\n",
       "2020-01-01 18:02:00  2020-01-01 18:02:00    0.0  3234.75  128.312\n",
       "2020-01-01 18:03:00  2020-01-01 18:03:00    0.0  3235.25  128.312\n",
       "2020-01-01 18:04:00  2020-01-01 18:04:00    0.0  3236.00  128.312\n",
       "2020-01-01 18:05:00  2020-01-01 18:05:00    0.0  3235.50  128.328"
      ]
     },
     "execution_count": 4,
     "metadata": {},
     "output_type": "execute_result"
    }
   ],
   "source": [
    "concat_data.head()"
   ]
  },
  {
   "cell_type": "code",
   "execution_count": 5,
   "id": "56ecaaae-170a-4716-925e-4ec96fc3be08",
   "metadata": {},
   "outputs": [
    {
     "data": {
      "text/html": [
       "<div>\n",
       "<style scoped>\n",
       "    .dataframe tbody tr th:only-of-type {\n",
       "        vertical-align: middle;\n",
       "    }\n",
       "\n",
       "    .dataframe tbody tr th {\n",
       "        vertical-align: top;\n",
       "    }\n",
       "\n",
       "    .dataframe thead th {\n",
       "        text-align: right;\n",
       "    }\n",
       "</style>\n",
       "<table border=\"1\" class=\"dataframe\">\n",
       "  <thead>\n",
       "    <tr style=\"text-align: right;\">\n",
       "      <th></th>\n",
       "      <th>Time</th>\n",
       "      <th>China</th>\n",
       "      <th>SP500</th>\n",
       "      <th>Note</th>\n",
       "    </tr>\n",
       "    <tr>\n",
       "      <th>Time</th>\n",
       "      <th></th>\n",
       "      <th></th>\n",
       "      <th></th>\n",
       "      <th></th>\n",
       "    </tr>\n",
       "  </thead>\n",
       "  <tbody>\n",
       "    <tr>\n",
       "      <th>2021-11-30 23:55:00</th>\n",
       "      <td>2021-11-30 23:55:00</td>\n",
       "      <td>15390.0</td>\n",
       "      <td>4605.75</td>\n",
       "      <td>0.0</td>\n",
       "    </tr>\n",
       "    <tr>\n",
       "      <th>2021-11-30 23:56:00</th>\n",
       "      <td>2021-11-30 23:56:00</td>\n",
       "      <td>15390.0</td>\n",
       "      <td>4606.75</td>\n",
       "      <td>0.0</td>\n",
       "    </tr>\n",
       "    <tr>\n",
       "      <th>2021-11-30 23:57:00</th>\n",
       "      <td>2021-11-30 23:57:00</td>\n",
       "      <td>15388.0</td>\n",
       "      <td>4606.50</td>\n",
       "      <td>0.0</td>\n",
       "    </tr>\n",
       "    <tr>\n",
       "      <th>2021-11-30 23:58:00</th>\n",
       "      <td>2021-11-30 23:58:00</td>\n",
       "      <td>15390.0</td>\n",
       "      <td>4606.50</td>\n",
       "      <td>0.0</td>\n",
       "    </tr>\n",
       "    <tr>\n",
       "      <th>2021-11-30 23:59:00</th>\n",
       "      <td>2021-11-30 23:59:00</td>\n",
       "      <td>15393.0</td>\n",
       "      <td>4606.50</td>\n",
       "      <td>0.0</td>\n",
       "    </tr>\n",
       "  </tbody>\n",
       "</table>\n",
       "</div>"
      ],
      "text/plain": [
       "                                    Time    China    SP500  Note\n",
       "Time                                                            \n",
       "2021-11-30 23:55:00  2021-11-30 23:55:00  15390.0  4605.75   0.0\n",
       "2021-11-30 23:56:00  2021-11-30 23:56:00  15390.0  4606.75   0.0\n",
       "2021-11-30 23:57:00  2021-11-30 23:57:00  15388.0  4606.50   0.0\n",
       "2021-11-30 23:58:00  2021-11-30 23:58:00  15390.0  4606.50   0.0\n",
       "2021-11-30 23:59:00  2021-11-30 23:59:00  15393.0  4606.50   0.0"
      ]
     },
     "execution_count": 5,
     "metadata": {},
     "output_type": "execute_result"
    }
   ],
   "source": [
    "concat_data.tail()"
   ]
  },
  {
   "cell_type": "markdown",
   "id": "4f32f0d4-508c-4692-8a76-fb2ad5ce5711",
   "metadata": {
    "tags": []
   },
   "source": [
    "### Трансформация ценовых данных"
   ]
  },
  {
   "cell_type": "markdown",
   "id": "c4587429-f538-4215-9f21-fe68d91c5f5a",
   "metadata": {},
   "source": [
    "Работая с временными рядами цен, я предпочитаю использовать разность логарифмов цены с ее лаговым значением, по сути использую процентное изменение цены в сравнении с предыдущим моментом \n",
    "\n",
    "Данная мера позволяет решить несколько проблем: <br>\n",
    "\n",
    "1) Проблема гетероскедастичности. <br>Данный вопрос часто возникает во временных рядах, так как со временем волатильность инструментов повышается и соответственно некоторые модели начинают давать неэффективную оценку. \n",
    "\n",
    "2) Отсутствие стационарности. <br>Разница логарифмов позволяет привести данные к стационарному виду. Это необходимое требование для большинства временных статистических моделей, а так же это упрощает поиск зависимостей внутри данных. <br>\n",
    "\n",
    "3) Вопрос (проблема слишком сильное в данном контексте) масштаба. <br>Использование абсолютных значений цен нескольких инструментов усложняет работу с моделью и может давать плохие результаты. Так например, рост S&P500 на 5 тиков не дает интуитивного понимания насколько должен измениться индекс Шанхайской фондовой биржи. Относительные изменения позволяют улучшить интепретируемость модели. "
   ]
  },
  {
   "cell_type": "markdown",
   "id": "efa6bb13-57af-4dd3-8121-3bc049e5f6d4",
   "metadata": {},
   "source": [
    "Однако, перед тем как трансформировать данные необходимо решить как решать проблему пропущенных значений. "
   ]
  },
  {
   "cell_type": "markdown",
   "id": "f37a582e-5710-45c0-bfb4-8bbcca947c70",
   "metadata": {},
   "source": [
    "#### Количество пропущенных значений"
   ]
  },
  {
   "cell_type": "code",
   "execution_count": 6,
   "id": "35d5a700-420f-4f69-ac84-323056099b94",
   "metadata": {},
   "outputs": [
    {
     "name": "stdout",
     "output_type": "stream",
     "text": [
      "296451  - количество пропущенных значений\n",
      "14  - процент пропущенных значений\n"
     ]
    }
   ],
   "source": [
    "number_of_missed = 0\n",
    "for i in ticker_names:\n",
    "    number_of_missed += len(concat_data[concat_data[i] == 0.0])\n",
    "    \n",
    "\n",
    "print(number_of_missed, \" - количество пропущенных значений\")\n",
    "print(round(number_of_missed * 100 / 3 / len(concat_data.iloc[:,0])), \" - процент пропущенных значений\")"
   ]
  },
  {
   "cell_type": "markdown",
   "id": "bc099478-f415-4519-9da9-bd99e31a0db8",
   "metadata": {},
   "source": [
    "#### Возможные методы"
   ]
  },
  {
   "cell_type": "markdown",
   "id": "d0f4c0dc-7f7f-4ff6-9cce-d01f40e18293",
   "metadata": {},
   "source": [
    "Я рассматривал четыре возможных варианта: <br>\n",
    "\n",
    "1) Выкинуть ряды в которых есть пропущенные значения <br>\n",
    "\n",
    "2) Так как инструментов три я могу изучать пары и в данном случае для каждой пары придется меньше данных выкидывать используя первый способ <br>\n",
    "\n",
    "3) Можно использовать заполнение цен вперед, то есть если для инструмента нет данных во время t, то заполнить это время первой  ближайшей доступной ценой в прошлом. <br>Однако данный способ может привнести достаточно много шума учитывая небольшую размерность наших данных <br>\n",
    "\n",
    "4) *Также можно использовать заполненение пропущенных значений используя модели прогнозирования, но данный способ считаю не подходящим для текущей задачи"
   ]
  },
  {
   "cell_type": "markdown",
   "id": "b144c9e5-f027-45cc-acbb-2b09b0b868a1",
   "metadata": {},
   "source": [
    "#### Исследование пропущенных значений"
   ]
  },
  {
   "cell_type": "markdown",
   "id": "63b77e83-997e-433e-b527-fc48d8b7f4bd",
   "metadata": {},
   "source": [
    "При более внимательном изучении таблицы я обнаружил, как и предпологал изначально, периоды в которых цены инструмента пропущены чаще, чем в другое время <br>\n",
    "Это могут быть технические перерывы биржи или же закрытие биржи на ночь <br>\n",
    "Именно такие ряды я и решил выкинуть"
   ]
  },
  {
   "cell_type": "markdown",
   "id": "d4a5bdf0-5f47-4ad0-9714-9725751d3678",
   "metadata": {},
   "source": [
    "Для этих целей добавим колонку Time_HMS, время в часах/минутах/секундах и колонку missed_value, если хотя бы один инструмент содержит пропущенные данные <br> После найдем время суток, для которого отсутствие данных свойственно"
   ]
  },
  {
   "cell_type": "code",
   "execution_count": 7,
   "id": "199f3048-5663-4337-be10-c0cb2c8c683e",
   "metadata": {},
   "outputs": [],
   "source": [
    "concat_data[\"Time_HMS\"] = concat_data[\"Time\"].str[-8:]\n",
    "concat_data[\"missed_value\"] = [1 for i in range(len(concat_data))]\n",
    "\n",
    "for i in ticker_names:\n",
    "    concat_data[\"missed_value\"] = concat_data[\"missed_value\"] * concat_data[i]\n",
    "\n",
    "# -1, если данных нет и 0, если есть\n",
    "concat_data[\"missed_value\"] = [-1 if i <= 0 else 0 for i in concat_data[\"missed_value\"]]"
   ]
  },
  {
   "cell_type": "code",
   "execution_count": 8,
   "id": "91354c85-3495-498f-b9ce-60b29466f0d9",
   "metadata": {},
   "outputs": [],
   "source": [
    "missed_values_distribution = pd.DataFrame(concat_data.groupby([\"Time_HMS\"]).sum()[\"missed_value\"])"
   ]
  },
  {
   "cell_type": "code",
   "execution_count": 9,
   "id": "e4332475-a2e1-4664-b289-7be732186671",
   "metadata": {},
   "outputs": [
    {
     "data": {
      "text/html": [
       "<div>\n",
       "<style scoped>\n",
       "    .dataframe tbody tr th:only-of-type {\n",
       "        vertical-align: middle;\n",
       "    }\n",
       "\n",
       "    .dataframe tbody tr th {\n",
       "        vertical-align: top;\n",
       "    }\n",
       "\n",
       "    .dataframe thead th {\n",
       "        text-align: right;\n",
       "    }\n",
       "</style>\n",
       "<table border=\"1\" class=\"dataframe\">\n",
       "  <thead>\n",
       "    <tr style=\"text-align: right;\">\n",
       "      <th></th>\n",
       "      <th>missed_value</th>\n",
       "    </tr>\n",
       "    <tr>\n",
       "      <th>Time_HMS</th>\n",
       "      <th></th>\n",
       "    </tr>\n",
       "  </thead>\n",
       "  <tbody>\n",
       "    <tr>\n",
       "      <th>00:00:00</th>\n",
       "      <td>-181</td>\n",
       "    </tr>\n",
       "    <tr>\n",
       "      <th>00:01:00</th>\n",
       "      <td>-185</td>\n",
       "    </tr>\n",
       "    <tr>\n",
       "      <th>00:02:00</th>\n",
       "      <td>-183</td>\n",
       "    </tr>\n",
       "    <tr>\n",
       "      <th>00:03:00</th>\n",
       "      <td>-187</td>\n",
       "    </tr>\n",
       "    <tr>\n",
       "      <th>00:04:00</th>\n",
       "      <td>-205</td>\n",
       "    </tr>\n",
       "  </tbody>\n",
       "</table>\n",
       "</div>"
      ],
      "text/plain": [
       "          missed_value\n",
       "Time_HMS              \n",
       "00:00:00          -181\n",
       "00:01:00          -185\n",
       "00:02:00          -183\n",
       "00:03:00          -187\n",
       "00:04:00          -205"
      ]
     },
     "execution_count": 9,
     "metadata": {},
     "output_type": "execute_result"
    }
   ],
   "source": [
    "missed_values_distribution.head()"
   ]
  },
  {
   "cell_type": "markdown",
   "id": "28da2456-f7bb-44b4-a325-06368e4b3e8c",
   "metadata": {},
   "source": [
    "Общее количество дней в таблице"
   ]
  },
  {
   "cell_type": "code",
   "execution_count": 10,
   "id": "6e251284-669d-4f65-a89a-ef9a0354a656",
   "metadata": {},
   "outputs": [
    {
     "name": "stdout",
     "output_type": "stream",
     "text": [
      "599\n"
     ]
    }
   ],
   "source": [
    "number_of_days = len(np.unique(concat_data[\"Time\"].str[:10]))\n",
    "print(number_of_days)"
   ]
  },
  {
   "cell_type": "markdown",
   "id": "c5b8f802-52e2-468c-b71f-7d74443dc811",
   "metadata": {},
   "source": [
    "Добавим колонку с процентом пропущенных рядов от общего количества рядов с данным внутридневным временем"
   ]
  },
  {
   "cell_type": "code",
   "execution_count": 11,
   "id": "3fe9b5e7-081c-40ce-9b12-fd8b39995bf4",
   "metadata": {},
   "outputs": [],
   "source": [
    "missed_values_distribution[\"%_missed_value\"] = round(100 * missed_values_distribution[\"missed_value\"] * -1 / number_of_days)"
   ]
  },
  {
   "cell_type": "code",
   "execution_count": 12,
   "id": "1e6fc33f-6309-4a9e-aa57-0c53e0f97c25",
   "metadata": {},
   "outputs": [
    {
     "data": {
      "image/png": "[encoded data removed]",
      "text/plain": [
       "<Figure size 864x432 with 1 Axes>"
      ]
     },
     "metadata": {
      "needs_background": "light"
     },
     "output_type": "display_data"
    }
   ],
   "source": [
    "fig, ax = plt.subplots(figsize=(12, 6))\n",
    "plt.plot(pd.to_datetime(missed_values_distribution.index, format='%H:%M:%S'),missed_values_distribution[\"%_missed_value\"])\n",
    "\n",
    "date_form = DateFormatter(\"%H-%M\")\n",
    "ax.xaxis.set_major_formatter(date_form)\n",
    "plt.title(\"Distribution of missed rows\")\n",
    "plt.show()"
   ]
  },
  {
   "cell_type": "markdown",
   "id": "0fe1935c-c6b0-41f6-b2be-a17669cf8856",
   "metadata": {},
   "source": [
    "#### Выбранный отрезок"
   ]
  },
  {
   "cell_type": "markdown",
   "id": "52766932-7ebf-44d7-97be-b3295d6a164d",
   "metadata": {},
   "source": [
    "Для дальнейшего анализа был взят отрезок от 6 утра до 15 дня. <br>\n",
    "Я понимаю, что выкидываю из данных открытие американской биржи и прочие вероятно важные времена <br> \n",
    "Однако, я хочу сфокусироваться на хорошем изучении одного отрезка и выбранный отрезок представляется мне наиболее интересным ввиду наибольшей полноты данных (малого процента пропущенных значений)"
   ]
  },
  {
   "cell_type": "code",
   "execution_count": 13,
   "id": "d4c0bed2-352f-4030-a796-716a92527139",
   "metadata": {},
   "outputs": [
    {
     "data": {
      "text/html": [
       "<div>\n",
       "<style scoped>\n",
       "    .dataframe tbody tr th:only-of-type {\n",
       "        vertical-align: middle;\n",
       "    }\n",
       "\n",
       "    .dataframe tbody tr th {\n",
       "        vertical-align: top;\n",
       "    }\n",
       "\n",
       "    .dataframe thead th {\n",
       "        text-align: right;\n",
       "    }\n",
       "</style>\n",
       "<table border=\"1\" class=\"dataframe\">\n",
       "  <thead>\n",
       "    <tr style=\"text-align: right;\">\n",
       "      <th></th>\n",
       "      <th>Time</th>\n",
       "      <th>China</th>\n",
       "      <th>SP500</th>\n",
       "      <th>Note</th>\n",
       "      <th>Time_HMS</th>\n",
       "      <th>missed_value</th>\n",
       "    </tr>\n",
       "    <tr>\n",
       "      <th>Time</th>\n",
       "      <th></th>\n",
       "      <th></th>\n",
       "      <th></th>\n",
       "      <th></th>\n",
       "      <th></th>\n",
       "      <th></th>\n",
       "    </tr>\n",
       "  </thead>\n",
       "  <tbody>\n",
       "    <tr>\n",
       "      <th>2020-01-02 06:00:00</th>\n",
       "      <td>2020-01-02 06:00:00</td>\n",
       "      <td>14605.0</td>\n",
       "      <td>3250.00</td>\n",
       "      <td>128.359</td>\n",
       "      <td>06:00:00</td>\n",
       "      <td>0</td>\n",
       "    </tr>\n",
       "    <tr>\n",
       "      <th>2020-01-02 06:01:00</th>\n",
       "      <td>2020-01-02 06:01:00</td>\n",
       "      <td>0.0</td>\n",
       "      <td>3250.00</td>\n",
       "      <td>128.359</td>\n",
       "      <td>06:01:00</td>\n",
       "      <td>-1</td>\n",
       "    </tr>\n",
       "    <tr>\n",
       "      <th>2020-01-02 06:02:00</th>\n",
       "      <td>2020-01-02 06:02:00</td>\n",
       "      <td>14600.0</td>\n",
       "      <td>3249.75</td>\n",
       "      <td>128.375</td>\n",
       "      <td>06:02:00</td>\n",
       "      <td>0</td>\n",
       "    </tr>\n",
       "    <tr>\n",
       "      <th>2020-01-02 06:03:00</th>\n",
       "      <td>2020-01-02 06:03:00</td>\n",
       "      <td>14600.0</td>\n",
       "      <td>3250.25</td>\n",
       "      <td>128.359</td>\n",
       "      <td>06:03:00</td>\n",
       "      <td>0</td>\n",
       "    </tr>\n",
       "    <tr>\n",
       "      <th>2020-01-02 06:04:00</th>\n",
       "      <td>2020-01-02 06:04:00</td>\n",
       "      <td>0.0</td>\n",
       "      <td>3250.25</td>\n",
       "      <td>128.359</td>\n",
       "      <td>06:04:00</td>\n",
       "      <td>-1</td>\n",
       "    </tr>\n",
       "    <tr>\n",
       "      <th>...</th>\n",
       "      <td>...</td>\n",
       "      <td>...</td>\n",
       "      <td>...</td>\n",
       "      <td>...</td>\n",
       "      <td>...</td>\n",
       "      <td>...</td>\n",
       "    </tr>\n",
       "    <tr>\n",
       "      <th>2021-11-30 14:56:00</th>\n",
       "      <td>2021-11-30 14:56:00</td>\n",
       "      <td>15353.0</td>\n",
       "      <td>4574.75</td>\n",
       "      <td>131.500</td>\n",
       "      <td>14:56:00</td>\n",
       "      <td>0</td>\n",
       "    </tr>\n",
       "    <tr>\n",
       "      <th>2021-11-30 14:57:00</th>\n",
       "      <td>2021-11-30 14:57:00</td>\n",
       "      <td>15352.0</td>\n",
       "      <td>4575.00</td>\n",
       "      <td>131.531</td>\n",
       "      <td>14:57:00</td>\n",
       "      <td>0</td>\n",
       "    </tr>\n",
       "    <tr>\n",
       "      <th>2021-11-30 14:58:00</th>\n",
       "      <td>2021-11-30 14:58:00</td>\n",
       "      <td>15356.0</td>\n",
       "      <td>4577.25</td>\n",
       "      <td>131.546</td>\n",
       "      <td>14:58:00</td>\n",
       "      <td>0</td>\n",
       "    </tr>\n",
       "    <tr>\n",
       "      <th>2021-11-30 14:59:00</th>\n",
       "      <td>2021-11-30 14:59:00</td>\n",
       "      <td>15358.0</td>\n",
       "      <td>4577.00</td>\n",
       "      <td>131.546</td>\n",
       "      <td>14:59:00</td>\n",
       "      <td>0</td>\n",
       "    </tr>\n",
       "    <tr>\n",
       "      <th>2021-11-30 15:00:00</th>\n",
       "      <td>2021-11-30 15:00:00</td>\n",
       "      <td>15363.0</td>\n",
       "      <td>4577.25</td>\n",
       "      <td>131.562</td>\n",
       "      <td>15:00:00</td>\n",
       "      <td>0</td>\n",
       "    </tr>\n",
       "  </tbody>\n",
       "</table>\n",
       "<p>267327 rows × 6 columns</p>\n",
       "</div>"
      ],
      "text/plain": [
       "                                    Time    China    SP500     Note  Time_HMS  \\\n",
       "Time                                                                            \n",
       "2020-01-02 06:00:00  2020-01-02 06:00:00  14605.0  3250.00  128.359  06:00:00   \n",
       "2020-01-02 06:01:00  2020-01-02 06:01:00      0.0  3250.00  128.359  06:01:00   \n",
       "2020-01-02 06:02:00  2020-01-02 06:02:00  14600.0  3249.75  128.375  06:02:00   \n",
       "2020-01-02 06:03:00  2020-01-02 06:03:00  14600.0  3250.25  128.359  06:03:00   \n",
       "2020-01-02 06:04:00  2020-01-02 06:04:00      0.0  3250.25  128.359  06:04:00   \n",
       "...                                  ...      ...      ...      ...       ...   \n",
       "2021-11-30 14:56:00  2021-11-30 14:56:00  15353.0  4574.75  131.500  14:56:00   \n",
       "2021-11-30 14:57:00  2021-11-30 14:57:00  15352.0  4575.00  131.531  14:57:00   \n",
       "2021-11-30 14:58:00  2021-11-30 14:58:00  15356.0  4577.25  131.546  14:58:00   \n",
       "2021-11-30 14:59:00  2021-11-30 14:59:00  15358.0  4577.00  131.546  14:59:00   \n",
       "2021-11-30 15:00:00  2021-11-30 15:00:00  15363.0  4577.25  131.562  15:00:00   \n",
       "\n",
       "                     missed_value  \n",
       "Time                               \n",
       "2020-01-02 06:00:00             0  \n",
       "2020-01-02 06:01:00            -1  \n",
       "2020-01-02 06:02:00             0  \n",
       "2020-01-02 06:03:00             0  \n",
       "2020-01-02 06:04:00            -1  \n",
       "...                           ...  \n",
       "2021-11-30 14:56:00             0  \n",
       "2021-11-30 14:57:00             0  \n",
       "2021-11-30 14:58:00             0  \n",
       "2021-11-30 14:59:00             0  \n",
       "2021-11-30 15:00:00             0  \n",
       "\n",
       "[267327 rows x 6 columns]"
      ]
     },
     "execution_count": 13,
     "metadata": {},
     "output_type": "execute_result"
    }
   ],
   "source": [
    "reduce_concat = concat_data[(concat_data[\"Time_HMS\"] >= \"06:00:00\") & (concat_data[\"Time_HMS\"] <= \"15:00:00\")]\n",
    "reduce_concat"
   ]
  },
  {
   "cell_type": "markdown",
   "id": "86811434-df83-4650-ad21-606c32c97f84",
   "metadata": {},
   "source": [
    "#### Финальная трансформация"
   ]
  },
  {
   "cell_type": "markdown",
   "id": "4db4da3d-4c16-4616-be55-20c19652e820",
   "metadata": {},
   "source": [
    "Заполнение пропущенных значений предыдущими может быть неправильным, с точки зрения поставленной задачи <br>\n",
    "В этом случае для таких значений будет естественно, если они будут высокоскореллированы с предыдущими данными для других инструментов\n",
    "\n",
    "Поэтому дальнейшая трансформация для каждого инструмента i будет проведена следующим образом: <br>\n",
    "\n",
    "1) Создаются лаговые значения времени суток и цен инструмента i <br>\n",
    "\n",
    "2) Создается переменная i_Exist равная 1, если текущее значение и лаговые не отсутствуют, иначе 0 <br>\n",
    "\n",
    "3) Если i_Exist равно 1, то берется разница логарифмов текущей и предыдущей цен, иначе 0 <br>\n",
    "\n",
    "4) Из таблицы выкидывается наблюдения со значением в колонке Time_HMS равные 6 утра <br> Для исследования зависимостей только внутри дня, но не между"
   ]
  },
  {
   "cell_type": "code",
   "execution_count": 14,
   "id": "232f9dd2-315c-4f87-929a-93ae0dd5b273",
   "metadata": {
    "tags": []
   },
   "outputs": [
    {
     "name": "stderr",
     "output_type": "stream",
     "text": [
      "100%|████████████████████████████████████████████████████████████████████████████████████████████████████████████████████████████████████████████████████████████████████████████| 3/3 [00:20<00:00,  6.80s/it]\n"
     ]
    }
   ],
   "source": [
    "shifted = pd.DataFrame()\n",
    "shifted['Time_HMS'] = reduce_concat[\"Time_HMS\"][1:].values\n",
    "shifted['Time_HMS-1'] = reduce_concat[\"Time_HMS\"][0:-1].values\n",
    "for i in tqdm(ticker_names):\n",
    "    shifted[i] = reduce_concat[i][1:].values\n",
    "    shifted[i + '-1'] = reduce_concat[i][0:-1].values\n",
    "    shifted[i + '_Exist'] = [1 if i > 0 else 0 for i in shifted[i] * shifted[i + '-1']]\n",
    "    shifted[i + '_Delta'] = [np.log(shifted.loc[j,i]) - np.log(shifted.loc[j,i + '-1']) if shifted.loc[j,i + '_Exist'] > 0 else 0 for j in range(len(shifted))]\n",
    "    \n",
    "shifted = shifted[shifted[\"Time_HMS\"] != '06:00:00']"
   ]
  },
  {
   "cell_type": "code",
   "execution_count": 15,
   "id": "31ecc53d-4219-425d-a39f-b040875cfdfc",
   "metadata": {},
   "outputs": [
    {
     "data": {
      "text/html": [
       "<div>\n",
       "<style scoped>\n",
       "    .dataframe tbody tr th:only-of-type {\n",
       "        vertical-align: middle;\n",
       "    }\n",
       "\n",
       "    .dataframe tbody tr th {\n",
       "        vertical-align: top;\n",
       "    }\n",
       "\n",
       "    .dataframe thead th {\n",
       "        text-align: right;\n",
       "    }\n",
       "</style>\n",
       "<table border=\"1\" class=\"dataframe\">\n",
       "  <thead>\n",
       "    <tr style=\"text-align: right;\">\n",
       "      <th></th>\n",
       "      <th>Time_HMS</th>\n",
       "      <th>Time_HMS-1</th>\n",
       "      <th>China</th>\n",
       "      <th>China-1</th>\n",
       "      <th>China_Exist</th>\n",
       "      <th>China_Delta</th>\n",
       "      <th>SP500</th>\n",
       "      <th>SP500-1</th>\n",
       "      <th>SP500_Exist</th>\n",
       "      <th>SP500_Delta</th>\n",
       "      <th>Note</th>\n",
       "      <th>Note-1</th>\n",
       "      <th>Note_Exist</th>\n",
       "      <th>Note_Delta</th>\n",
       "    </tr>\n",
       "  </thead>\n",
       "  <tbody>\n",
       "    <tr>\n",
       "      <th>0</th>\n",
       "      <td>06:01:00</td>\n",
       "      <td>06:00:00</td>\n",
       "      <td>0.0</td>\n",
       "      <td>14605.0</td>\n",
       "      <td>0</td>\n",
       "      <td>0.0</td>\n",
       "      <td>3250.00</td>\n",
       "      <td>3250.00</td>\n",
       "      <td>1</td>\n",
       "      <td>0.000000</td>\n",
       "      <td>128.359</td>\n",
       "      <td>128.359</td>\n",
       "      <td>1</td>\n",
       "      <td>0.000000</td>\n",
       "    </tr>\n",
       "    <tr>\n",
       "      <th>1</th>\n",
       "      <td>06:02:00</td>\n",
       "      <td>06:01:00</td>\n",
       "      <td>14600.0</td>\n",
       "      <td>0.0</td>\n",
       "      <td>0</td>\n",
       "      <td>0.0</td>\n",
       "      <td>3249.75</td>\n",
       "      <td>3250.00</td>\n",
       "      <td>1</td>\n",
       "      <td>-0.000077</td>\n",
       "      <td>128.375</td>\n",
       "      <td>128.359</td>\n",
       "      <td>1</td>\n",
       "      <td>0.000125</td>\n",
       "    </tr>\n",
       "    <tr>\n",
       "      <th>2</th>\n",
       "      <td>06:03:00</td>\n",
       "      <td>06:02:00</td>\n",
       "      <td>14600.0</td>\n",
       "      <td>14600.0</td>\n",
       "      <td>1</td>\n",
       "      <td>0.0</td>\n",
       "      <td>3250.25</td>\n",
       "      <td>3249.75</td>\n",
       "      <td>1</td>\n",
       "      <td>0.000154</td>\n",
       "      <td>128.359</td>\n",
       "      <td>128.375</td>\n",
       "      <td>1</td>\n",
       "      <td>-0.000125</td>\n",
       "    </tr>\n",
       "    <tr>\n",
       "      <th>3</th>\n",
       "      <td>06:04:00</td>\n",
       "      <td>06:03:00</td>\n",
       "      <td>0.0</td>\n",
       "      <td>14600.0</td>\n",
       "      <td>0</td>\n",
       "      <td>0.0</td>\n",
       "      <td>3250.25</td>\n",
       "      <td>3250.25</td>\n",
       "      <td>1</td>\n",
       "      <td>0.000000</td>\n",
       "      <td>128.359</td>\n",
       "      <td>128.359</td>\n",
       "      <td>1</td>\n",
       "      <td>0.000000</td>\n",
       "    </tr>\n",
       "    <tr>\n",
       "      <th>4</th>\n",
       "      <td>06:05:00</td>\n",
       "      <td>06:04:00</td>\n",
       "      <td>14600.0</td>\n",
       "      <td>0.0</td>\n",
       "      <td>0</td>\n",
       "      <td>0.0</td>\n",
       "      <td>3249.75</td>\n",
       "      <td>3250.25</td>\n",
       "      <td>1</td>\n",
       "      <td>-0.000154</td>\n",
       "      <td>128.359</td>\n",
       "      <td>128.359</td>\n",
       "      <td>1</td>\n",
       "      <td>0.000000</td>\n",
       "    </tr>\n",
       "  </tbody>\n",
       "</table>\n",
       "</div>"
      ],
      "text/plain": [
       "   Time_HMS Time_HMS-1    China  China-1  China_Exist  China_Delta    SP500  \\\n",
       "0  06:01:00   06:00:00      0.0  14605.0            0          0.0  3250.00   \n",
       "1  06:02:00   06:01:00  14600.0      0.0            0          0.0  3249.75   \n",
       "2  06:03:00   06:02:00  14600.0  14600.0            1          0.0  3250.25   \n",
       "3  06:04:00   06:03:00      0.0  14600.0            0          0.0  3250.25   \n",
       "4  06:05:00   06:04:00  14600.0      0.0            0          0.0  3249.75   \n",
       "\n",
       "   SP500-1  SP500_Exist  SP500_Delta     Note   Note-1  Note_Exist  Note_Delta  \n",
       "0  3250.00            1     0.000000  128.359  128.359           1    0.000000  \n",
       "1  3250.00            1    -0.000077  128.375  128.359           1    0.000125  \n",
       "2  3249.75            1     0.000154  128.359  128.375           1   -0.000125  \n",
       "3  3250.25            1     0.000000  128.359  128.359           1    0.000000  \n",
       "4  3250.25            1    -0.000154  128.359  128.359           1    0.000000  "
      ]
     },
     "execution_count": 15,
     "metadata": {},
     "output_type": "execute_result"
    }
   ],
   "source": [
    "shifted.head()"
   ]
  },
  {
   "cell_type": "code",
   "execution_count": 16,
   "id": "8c34d236-247e-4ee4-b89c-f3a94c7262dc",
   "metadata": {},
   "outputs": [
    {
     "data": {
      "text/html": [
       "<div>\n",
       "<style scoped>\n",
       "    .dataframe tbody tr th:only-of-type {\n",
       "        vertical-align: middle;\n",
       "    }\n",
       "\n",
       "    .dataframe tbody tr th {\n",
       "        vertical-align: top;\n",
       "    }\n",
       "\n",
       "    .dataframe thead th {\n",
       "        text-align: right;\n",
       "    }\n",
       "</style>\n",
       "<table border=\"1\" class=\"dataframe\">\n",
       "  <thead>\n",
       "    <tr style=\"text-align: right;\">\n",
       "      <th></th>\n",
       "      <th>Time_HMS</th>\n",
       "      <th>Time_HMS-1</th>\n",
       "      <th>China</th>\n",
       "      <th>China-1</th>\n",
       "      <th>China_Exist</th>\n",
       "      <th>China_Delta</th>\n",
       "      <th>SP500</th>\n",
       "      <th>SP500-1</th>\n",
       "      <th>SP500_Exist</th>\n",
       "      <th>SP500_Delta</th>\n",
       "      <th>Note</th>\n",
       "      <th>Note-1</th>\n",
       "      <th>Note_Exist</th>\n",
       "      <th>Note_Delta</th>\n",
       "    </tr>\n",
       "  </thead>\n",
       "  <tbody>\n",
       "    <tr>\n",
       "      <th>267321</th>\n",
       "      <td>14:56:00</td>\n",
       "      <td>14:55:00</td>\n",
       "      <td>15353.0</td>\n",
       "      <td>15354.0</td>\n",
       "      <td>1</td>\n",
       "      <td>-0.000065</td>\n",
       "      <td>4574.75</td>\n",
       "      <td>4575.00</td>\n",
       "      <td>1</td>\n",
       "      <td>-0.000055</td>\n",
       "      <td>131.500</td>\n",
       "      <td>131.500</td>\n",
       "      <td>1</td>\n",
       "      <td>0.000000</td>\n",
       "    </tr>\n",
       "    <tr>\n",
       "      <th>267322</th>\n",
       "      <td>14:57:00</td>\n",
       "      <td>14:56:00</td>\n",
       "      <td>15352.0</td>\n",
       "      <td>15353.0</td>\n",
       "      <td>1</td>\n",
       "      <td>-0.000065</td>\n",
       "      <td>4575.00</td>\n",
       "      <td>4574.75</td>\n",
       "      <td>1</td>\n",
       "      <td>0.000055</td>\n",
       "      <td>131.531</td>\n",
       "      <td>131.500</td>\n",
       "      <td>1</td>\n",
       "      <td>0.000236</td>\n",
       "    </tr>\n",
       "    <tr>\n",
       "      <th>267323</th>\n",
       "      <td>14:58:00</td>\n",
       "      <td>14:57:00</td>\n",
       "      <td>15356.0</td>\n",
       "      <td>15352.0</td>\n",
       "      <td>1</td>\n",
       "      <td>0.000261</td>\n",
       "      <td>4577.25</td>\n",
       "      <td>4575.00</td>\n",
       "      <td>1</td>\n",
       "      <td>0.000492</td>\n",
       "      <td>131.546</td>\n",
       "      <td>131.531</td>\n",
       "      <td>1</td>\n",
       "      <td>0.000114</td>\n",
       "    </tr>\n",
       "    <tr>\n",
       "      <th>267324</th>\n",
       "      <td>14:59:00</td>\n",
       "      <td>14:58:00</td>\n",
       "      <td>15358.0</td>\n",
       "      <td>15356.0</td>\n",
       "      <td>1</td>\n",
       "      <td>0.000130</td>\n",
       "      <td>4577.00</td>\n",
       "      <td>4577.25</td>\n",
       "      <td>1</td>\n",
       "      <td>-0.000055</td>\n",
       "      <td>131.546</td>\n",
       "      <td>131.546</td>\n",
       "      <td>1</td>\n",
       "      <td>0.000000</td>\n",
       "    </tr>\n",
       "    <tr>\n",
       "      <th>267325</th>\n",
       "      <td>15:00:00</td>\n",
       "      <td>14:59:00</td>\n",
       "      <td>15363.0</td>\n",
       "      <td>15358.0</td>\n",
       "      <td>1</td>\n",
       "      <td>0.000326</td>\n",
       "      <td>4577.25</td>\n",
       "      <td>4577.00</td>\n",
       "      <td>1</td>\n",
       "      <td>0.000055</td>\n",
       "      <td>131.562</td>\n",
       "      <td>131.546</td>\n",
       "      <td>1</td>\n",
       "      <td>0.000122</td>\n",
       "    </tr>\n",
       "  </tbody>\n",
       "</table>\n",
       "</div>"
      ],
      "text/plain": [
       "        Time_HMS Time_HMS-1    China  China-1  China_Exist  China_Delta  \\\n",
       "267321  14:56:00   14:55:00  15353.0  15354.0            1    -0.000065   \n",
       "267322  14:57:00   14:56:00  15352.0  15353.0            1    -0.000065   \n",
       "267323  14:58:00   14:57:00  15356.0  15352.0            1     0.000261   \n",
       "267324  14:59:00   14:58:00  15358.0  15356.0            1     0.000130   \n",
       "267325  15:00:00   14:59:00  15363.0  15358.0            1     0.000326   \n",
       "\n",
       "          SP500  SP500-1  SP500_Exist  SP500_Delta     Note   Note-1  \\\n",
       "267321  4574.75  4575.00            1    -0.000055  131.500  131.500   \n",
       "267322  4575.00  4574.75            1     0.000055  131.531  131.500   \n",
       "267323  4577.25  4575.00            1     0.000492  131.546  131.531   \n",
       "267324  4577.00  4577.25            1    -0.000055  131.546  131.546   \n",
       "267325  4577.25  4577.00            1     0.000055  131.562  131.546   \n",
       "\n",
       "        Note_Exist  Note_Delta  \n",
       "267321           1    0.000000  \n",
       "267322           1    0.000236  \n",
       "267323           1    0.000114  \n",
       "267324           1    0.000000  \n",
       "267325           1    0.000122  "
      ]
     },
     "execution_count": 16,
     "metadata": {},
     "output_type": "execute_result"
    }
   ],
   "source": [
    "shifted.tail()"
   ]
  },
  {
   "cell_type": "markdown",
   "id": "2e01b2be-0be3-44c7-93bf-435883c588c9",
   "metadata": {},
   "source": [
    "Из всех колонок нас интресуют только Time_HMS и колонки Delta <br>\n",
    "Остальные колонки были вспомогательные и для дальнейшего анализа не нужны"
   ]
  },
  {
   "cell_type": "code",
   "execution_count": 17,
   "id": "41461b80-2277-4b2b-bf7a-7fd3c29f90e4",
   "metadata": {},
   "outputs": [],
   "source": [
    "data = pd.DataFrame()\n",
    "data[\"Time\"] = shifted[\"Time_HMS\"]\n",
    "for i in ticker_names:\n",
    "    data[i + \"_Delta\"] = shifted[i + \"_Delta\"]"
   ]
  },
  {
   "cell_type": "code",
   "execution_count": 18,
   "id": "f7b962cf-9877-4777-a8df-fa31e1d027fc",
   "metadata": {},
   "outputs": [
    {
     "data": {
      "text/html": [
       "<div>\n",
       "<style scoped>\n",
       "    .dataframe tbody tr th:only-of-type {\n",
       "        vertical-align: middle;\n",
       "    }\n",
       "\n",
       "    .dataframe tbody tr th {\n",
       "        vertical-align: top;\n",
       "    }\n",
       "\n",
       "    .dataframe thead th {\n",
       "        text-align: right;\n",
       "    }\n",
       "</style>\n",
       "<table border=\"1\" class=\"dataframe\">\n",
       "  <thead>\n",
       "    <tr style=\"text-align: right;\">\n",
       "      <th></th>\n",
       "      <th>Time</th>\n",
       "      <th>China_Delta</th>\n",
       "      <th>SP500_Delta</th>\n",
       "      <th>Note_Delta</th>\n",
       "    </tr>\n",
       "  </thead>\n",
       "  <tbody>\n",
       "    <tr>\n",
       "      <th>0</th>\n",
       "      <td>06:01:00</td>\n",
       "      <td>0.0</td>\n",
       "      <td>0.000000</td>\n",
       "      <td>0.000000</td>\n",
       "    </tr>\n",
       "    <tr>\n",
       "      <th>1</th>\n",
       "      <td>06:02:00</td>\n",
       "      <td>0.0</td>\n",
       "      <td>-0.000077</td>\n",
       "      <td>0.000125</td>\n",
       "    </tr>\n",
       "    <tr>\n",
       "      <th>2</th>\n",
       "      <td>06:03:00</td>\n",
       "      <td>0.0</td>\n",
       "      <td>0.000154</td>\n",
       "      <td>-0.000125</td>\n",
       "    </tr>\n",
       "    <tr>\n",
       "      <th>3</th>\n",
       "      <td>06:04:00</td>\n",
       "      <td>0.0</td>\n",
       "      <td>0.000000</td>\n",
       "      <td>0.000000</td>\n",
       "    </tr>\n",
       "    <tr>\n",
       "      <th>4</th>\n",
       "      <td>06:05:00</td>\n",
       "      <td>0.0</td>\n",
       "      <td>-0.000154</td>\n",
       "      <td>0.000000</td>\n",
       "    </tr>\n",
       "  </tbody>\n",
       "</table>\n",
       "</div>"
      ],
      "text/plain": [
       "       Time  China_Delta  SP500_Delta  Note_Delta\n",
       "0  06:01:00          0.0     0.000000    0.000000\n",
       "1  06:02:00          0.0    -0.000077    0.000125\n",
       "2  06:03:00          0.0     0.000154   -0.000125\n",
       "3  06:04:00          0.0     0.000000    0.000000\n",
       "4  06:05:00          0.0    -0.000154    0.000000"
      ]
     },
     "execution_count": 18,
     "metadata": {},
     "output_type": "execute_result"
    }
   ],
   "source": [
    "data.head()"
   ]
  },
  {
   "cell_type": "code",
   "execution_count": 19,
   "id": "7666d468-5a68-4719-9da1-fc7140f1e061",
   "metadata": {},
   "outputs": [
    {
     "data": {
      "text/html": [
       "<div>\n",
       "<style scoped>\n",
       "    .dataframe tbody tr th:only-of-type {\n",
       "        vertical-align: middle;\n",
       "    }\n",
       "\n",
       "    .dataframe tbody tr th {\n",
       "        vertical-align: top;\n",
       "    }\n",
       "\n",
       "    .dataframe thead th {\n",
       "        text-align: right;\n",
       "    }\n",
       "</style>\n",
       "<table border=\"1\" class=\"dataframe\">\n",
       "  <thead>\n",
       "    <tr style=\"text-align: right;\">\n",
       "      <th></th>\n",
       "      <th>Time</th>\n",
       "      <th>China_Delta</th>\n",
       "      <th>SP500_Delta</th>\n",
       "      <th>Note_Delta</th>\n",
       "    </tr>\n",
       "  </thead>\n",
       "  <tbody>\n",
       "    <tr>\n",
       "      <th>267321</th>\n",
       "      <td>14:56:00</td>\n",
       "      <td>-0.000065</td>\n",
       "      <td>-0.000055</td>\n",
       "      <td>0.000000</td>\n",
       "    </tr>\n",
       "    <tr>\n",
       "      <th>267322</th>\n",
       "      <td>14:57:00</td>\n",
       "      <td>-0.000065</td>\n",
       "      <td>0.000055</td>\n",
       "      <td>0.000236</td>\n",
       "    </tr>\n",
       "    <tr>\n",
       "      <th>267323</th>\n",
       "      <td>14:58:00</td>\n",
       "      <td>0.000261</td>\n",
       "      <td>0.000492</td>\n",
       "      <td>0.000114</td>\n",
       "    </tr>\n",
       "    <tr>\n",
       "      <th>267324</th>\n",
       "      <td>14:59:00</td>\n",
       "      <td>0.000130</td>\n",
       "      <td>-0.000055</td>\n",
       "      <td>0.000000</td>\n",
       "    </tr>\n",
       "    <tr>\n",
       "      <th>267325</th>\n",
       "      <td>15:00:00</td>\n",
       "      <td>0.000326</td>\n",
       "      <td>0.000055</td>\n",
       "      <td>0.000122</td>\n",
       "    </tr>\n",
       "  </tbody>\n",
       "</table>\n",
       "</div>"
      ],
      "text/plain": [
       "            Time  China_Delta  SP500_Delta  Note_Delta\n",
       "267321  14:56:00    -0.000065    -0.000055    0.000000\n",
       "267322  14:57:00    -0.000065     0.000055    0.000236\n",
       "267323  14:58:00     0.000261     0.000492    0.000114\n",
       "267324  14:59:00     0.000130    -0.000055    0.000000\n",
       "267325  15:00:00     0.000326     0.000055    0.000122"
      ]
     },
     "execution_count": 19,
     "metadata": {},
     "output_type": "execute_result"
    }
   ],
   "source": [
    "data.tail()"
   ]
  },
  {
   "cell_type": "markdown",
   "id": "795d9a4c-f33f-4f1b-97dd-7fb0c8869721",
   "metadata": {},
   "source": [
    "## Анализ лаговых зависимостей"
   ]
  },
  {
   "cell_type": "markdown",
   "id": "a68cc5c9-88f8-4b23-86f6-2bba97c158a3",
   "metadata": {},
   "source": [
    "Создадим копию полученной таблицы (сугубо вспомогательная операция)"
   ]
  },
  {
   "cell_type": "code",
   "execution_count": 20,
   "id": "d56618cb-ce60-47e6-9323-f739d6284f3e",
   "metadata": {},
   "outputs": [],
   "source": [
    "data_copy = data.copy()"
   ]
  },
  {
   "cell_type": "markdown",
   "id": "8b3b768a-adc4-46ea-be79-ba45ae91b970",
   "metadata": {},
   "source": [
    "### Создание лаговых значений для каждого инструмента"
   ]
  },
  {
   "cell_type": "markdown",
   "id": "ce63c74f-4898-4ec4-86e3-005b5e215897",
   "metadata": {},
   "source": [
    "В исследовании будут использоваться 10 лаговых значений"
   ]
  },
  {
   "cell_type": "code",
   "execution_count": 21,
   "id": "569fbb50-1eef-4609-9a4b-6497a1c8cb27",
   "metadata": {},
   "outputs": [
    {
     "data": {
      "text/html": [
       "<div>\n",
       "<style scoped>\n",
       "    .dataframe tbody tr th:only-of-type {\n",
       "        vertical-align: middle;\n",
       "    }\n",
       "\n",
       "    .dataframe tbody tr th {\n",
       "        vertical-align: top;\n",
       "    }\n",
       "\n",
       "    .dataframe thead th {\n",
       "        text-align: right;\n",
       "    }\n",
       "</style>\n",
       "<table border=\"1\" class=\"dataframe\">\n",
       "  <thead>\n",
       "    <tr style=\"text-align: right;\">\n",
       "      <th></th>\n",
       "      <th>China_0</th>\n",
       "      <th>China_1</th>\n",
       "      <th>China_2</th>\n",
       "      <th>China_3</th>\n",
       "      <th>China_4</th>\n",
       "      <th>China_5</th>\n",
       "      <th>China_6</th>\n",
       "      <th>China_7</th>\n",
       "      <th>China_8</th>\n",
       "      <th>China_9</th>\n",
       "      <th>...</th>\n",
       "      <th>Note_1</th>\n",
       "      <th>Note_2</th>\n",
       "      <th>Note_3</th>\n",
       "      <th>Note_4</th>\n",
       "      <th>Note_5</th>\n",
       "      <th>Note_6</th>\n",
       "      <th>Note_7</th>\n",
       "      <th>Note_8</th>\n",
       "      <th>Note_9</th>\n",
       "      <th>Note_10</th>\n",
       "    </tr>\n",
       "  </thead>\n",
       "  <tbody>\n",
       "    <tr>\n",
       "      <th>0</th>\n",
       "      <td>0.000000</td>\n",
       "      <td>0.000000</td>\n",
       "      <td>0.000000</td>\n",
       "      <td>0.000000</td>\n",
       "      <td>0.000000</td>\n",
       "      <td>0.000000</td>\n",
       "      <td>0.000000</td>\n",
       "      <td>0.000000</td>\n",
       "      <td>0.000000</td>\n",
       "      <td>0.000000</td>\n",
       "      <td>...</td>\n",
       "      <td>0.000000</td>\n",
       "      <td>0.000000</td>\n",
       "      <td>0.000000</td>\n",
       "      <td>0.000000</td>\n",
       "      <td>0.000000</td>\n",
       "      <td>0.000000</td>\n",
       "      <td>0.000000</td>\n",
       "      <td>0.000000</td>\n",
       "      <td>0.0</td>\n",
       "      <td>0.000000</td>\n",
       "    </tr>\n",
       "    <tr>\n",
       "      <th>1</th>\n",
       "      <td>0.000000</td>\n",
       "      <td>0.000000</td>\n",
       "      <td>0.000000</td>\n",
       "      <td>0.000000</td>\n",
       "      <td>0.000000</td>\n",
       "      <td>0.000000</td>\n",
       "      <td>0.000000</td>\n",
       "      <td>0.000000</td>\n",
       "      <td>0.000000</td>\n",
       "      <td>0.000000</td>\n",
       "      <td>...</td>\n",
       "      <td>0.000000</td>\n",
       "      <td>0.000000</td>\n",
       "      <td>0.000000</td>\n",
       "      <td>0.000000</td>\n",
       "      <td>0.000000</td>\n",
       "      <td>0.000000</td>\n",
       "      <td>0.000000</td>\n",
       "      <td>0.000000</td>\n",
       "      <td>0.0</td>\n",
       "      <td>0.000000</td>\n",
       "    </tr>\n",
       "    <tr>\n",
       "      <th>2</th>\n",
       "      <td>0.000000</td>\n",
       "      <td>0.000000</td>\n",
       "      <td>0.000000</td>\n",
       "      <td>0.000000</td>\n",
       "      <td>0.000000</td>\n",
       "      <td>0.000000</td>\n",
       "      <td>0.000000</td>\n",
       "      <td>0.000000</td>\n",
       "      <td>0.000000</td>\n",
       "      <td>0.000000</td>\n",
       "      <td>...</td>\n",
       "      <td>0.000125</td>\n",
       "      <td>0.000000</td>\n",
       "      <td>0.000000</td>\n",
       "      <td>0.000000</td>\n",
       "      <td>0.000000</td>\n",
       "      <td>0.000000</td>\n",
       "      <td>0.000000</td>\n",
       "      <td>0.000000</td>\n",
       "      <td>0.0</td>\n",
       "      <td>0.000000</td>\n",
       "    </tr>\n",
       "    <tr>\n",
       "      <th>3</th>\n",
       "      <td>0.000000</td>\n",
       "      <td>0.000000</td>\n",
       "      <td>0.000000</td>\n",
       "      <td>0.000000</td>\n",
       "      <td>0.000000</td>\n",
       "      <td>0.000000</td>\n",
       "      <td>0.000000</td>\n",
       "      <td>0.000000</td>\n",
       "      <td>0.000000</td>\n",
       "      <td>0.000000</td>\n",
       "      <td>...</td>\n",
       "      <td>-0.000125</td>\n",
       "      <td>0.000125</td>\n",
       "      <td>0.000000</td>\n",
       "      <td>0.000000</td>\n",
       "      <td>0.000000</td>\n",
       "      <td>0.000000</td>\n",
       "      <td>0.000000</td>\n",
       "      <td>0.000000</td>\n",
       "      <td>0.0</td>\n",
       "      <td>0.000000</td>\n",
       "    </tr>\n",
       "    <tr>\n",
       "      <th>4</th>\n",
       "      <td>0.000000</td>\n",
       "      <td>0.000000</td>\n",
       "      <td>0.000000</td>\n",
       "      <td>0.000000</td>\n",
       "      <td>0.000000</td>\n",
       "      <td>0.000000</td>\n",
       "      <td>0.000000</td>\n",
       "      <td>0.000000</td>\n",
       "      <td>0.000000</td>\n",
       "      <td>0.000000</td>\n",
       "      <td>...</td>\n",
       "      <td>0.000000</td>\n",
       "      <td>-0.000125</td>\n",
       "      <td>0.000125</td>\n",
       "      <td>0.000000</td>\n",
       "      <td>0.000000</td>\n",
       "      <td>0.000000</td>\n",
       "      <td>0.000000</td>\n",
       "      <td>0.000000</td>\n",
       "      <td>0.0</td>\n",
       "      <td>0.000000</td>\n",
       "    </tr>\n",
       "    <tr>\n",
       "      <th>...</th>\n",
       "      <td>...</td>\n",
       "      <td>...</td>\n",
       "      <td>...</td>\n",
       "      <td>...</td>\n",
       "      <td>...</td>\n",
       "      <td>...</td>\n",
       "      <td>...</td>\n",
       "      <td>...</td>\n",
       "      <td>...</td>\n",
       "      <td>...</td>\n",
       "      <td>...</td>\n",
       "      <td>...</td>\n",
       "      <td>...</td>\n",
       "      <td>...</td>\n",
       "      <td>...</td>\n",
       "      <td>...</td>\n",
       "      <td>...</td>\n",
       "      <td>...</td>\n",
       "      <td>...</td>\n",
       "      <td>...</td>\n",
       "      <td>...</td>\n",
       "    </tr>\n",
       "    <tr>\n",
       "      <th>267321</th>\n",
       "      <td>-0.000065</td>\n",
       "      <td>0.000261</td>\n",
       "      <td>0.000065</td>\n",
       "      <td>-0.000130</td>\n",
       "      <td>0.000456</td>\n",
       "      <td>0.000196</td>\n",
       "      <td>-0.000782</td>\n",
       "      <td>-0.000391</td>\n",
       "      <td>0.000130</td>\n",
       "      <td>0.000195</td>\n",
       "      <td>...</td>\n",
       "      <td>-0.000114</td>\n",
       "      <td>0.000000</td>\n",
       "      <td>0.000000</td>\n",
       "      <td>-0.000357</td>\n",
       "      <td>0.000000</td>\n",
       "      <td>0.000000</td>\n",
       "      <td>0.000000</td>\n",
       "      <td>0.000000</td>\n",
       "      <td>0.0</td>\n",
       "      <td>-0.000122</td>\n",
       "    </tr>\n",
       "    <tr>\n",
       "      <th>267322</th>\n",
       "      <td>-0.000065</td>\n",
       "      <td>-0.000065</td>\n",
       "      <td>0.000261</td>\n",
       "      <td>0.000065</td>\n",
       "      <td>-0.000130</td>\n",
       "      <td>0.000456</td>\n",
       "      <td>0.000196</td>\n",
       "      <td>-0.000782</td>\n",
       "      <td>-0.000391</td>\n",
       "      <td>0.000130</td>\n",
       "      <td>...</td>\n",
       "      <td>0.000000</td>\n",
       "      <td>-0.000114</td>\n",
       "      <td>0.000000</td>\n",
       "      <td>0.000000</td>\n",
       "      <td>-0.000357</td>\n",
       "      <td>0.000000</td>\n",
       "      <td>0.000000</td>\n",
       "      <td>0.000000</td>\n",
       "      <td>0.0</td>\n",
       "      <td>0.000000</td>\n",
       "    </tr>\n",
       "    <tr>\n",
       "      <th>267323</th>\n",
       "      <td>0.000261</td>\n",
       "      <td>-0.000065</td>\n",
       "      <td>-0.000065</td>\n",
       "      <td>0.000261</td>\n",
       "      <td>0.000065</td>\n",
       "      <td>-0.000130</td>\n",
       "      <td>0.000456</td>\n",
       "      <td>0.000196</td>\n",
       "      <td>-0.000782</td>\n",
       "      <td>-0.000391</td>\n",
       "      <td>...</td>\n",
       "      <td>0.000236</td>\n",
       "      <td>0.000000</td>\n",
       "      <td>-0.000114</td>\n",
       "      <td>0.000000</td>\n",
       "      <td>0.000000</td>\n",
       "      <td>-0.000357</td>\n",
       "      <td>0.000000</td>\n",
       "      <td>0.000000</td>\n",
       "      <td>0.0</td>\n",
       "      <td>0.000000</td>\n",
       "    </tr>\n",
       "    <tr>\n",
       "      <th>267324</th>\n",
       "      <td>0.000130</td>\n",
       "      <td>0.000261</td>\n",
       "      <td>-0.000065</td>\n",
       "      <td>-0.000065</td>\n",
       "      <td>0.000261</td>\n",
       "      <td>0.000065</td>\n",
       "      <td>-0.000130</td>\n",
       "      <td>0.000456</td>\n",
       "      <td>0.000196</td>\n",
       "      <td>-0.000782</td>\n",
       "      <td>...</td>\n",
       "      <td>0.000114</td>\n",
       "      <td>0.000236</td>\n",
       "      <td>0.000000</td>\n",
       "      <td>-0.000114</td>\n",
       "      <td>0.000000</td>\n",
       "      <td>0.000000</td>\n",
       "      <td>-0.000357</td>\n",
       "      <td>0.000000</td>\n",
       "      <td>0.0</td>\n",
       "      <td>0.000000</td>\n",
       "    </tr>\n",
       "    <tr>\n",
       "      <th>267325</th>\n",
       "      <td>0.000326</td>\n",
       "      <td>0.000130</td>\n",
       "      <td>0.000261</td>\n",
       "      <td>-0.000065</td>\n",
       "      <td>-0.000065</td>\n",
       "      <td>0.000261</td>\n",
       "      <td>0.000065</td>\n",
       "      <td>-0.000130</td>\n",
       "      <td>0.000456</td>\n",
       "      <td>0.000196</td>\n",
       "      <td>...</td>\n",
       "      <td>0.000000</td>\n",
       "      <td>0.000114</td>\n",
       "      <td>0.000236</td>\n",
       "      <td>0.000000</td>\n",
       "      <td>-0.000114</td>\n",
       "      <td>0.000000</td>\n",
       "      <td>0.000000</td>\n",
       "      <td>-0.000357</td>\n",
       "      <td>0.0</td>\n",
       "      <td>0.000000</td>\n",
       "    </tr>\n",
       "  </tbody>\n",
       "</table>\n",
       "<p>266830 rows × 33 columns</p>\n",
       "</div>"
      ],
      "text/plain": [
       "         China_0   China_1   China_2   China_3   China_4   China_5   China_6  \\\n",
       "0       0.000000  0.000000  0.000000  0.000000  0.000000  0.000000  0.000000   \n",
       "1       0.000000  0.000000  0.000000  0.000000  0.000000  0.000000  0.000000   \n",
       "2       0.000000  0.000000  0.000000  0.000000  0.000000  0.000000  0.000000   \n",
       "3       0.000000  0.000000  0.000000  0.000000  0.000000  0.000000  0.000000   \n",
       "4       0.000000  0.000000  0.000000  0.000000  0.000000  0.000000  0.000000   \n",
       "...          ...       ...       ...       ...       ...       ...       ...   \n",
       "267321 -0.000065  0.000261  0.000065 -0.000130  0.000456  0.000196 -0.000782   \n",
       "267322 -0.000065 -0.000065  0.000261  0.000065 -0.000130  0.000456  0.000196   \n",
       "267323  0.000261 -0.000065 -0.000065  0.000261  0.000065 -0.000130  0.000456   \n",
       "267324  0.000130  0.000261 -0.000065 -0.000065  0.000261  0.000065 -0.000130   \n",
       "267325  0.000326  0.000130  0.000261 -0.000065 -0.000065  0.000261  0.000065   \n",
       "\n",
       "         China_7   China_8   China_9  ...    Note_1    Note_2    Note_3  \\\n",
       "0       0.000000  0.000000  0.000000  ...  0.000000  0.000000  0.000000   \n",
       "1       0.000000  0.000000  0.000000  ...  0.000000  0.000000  0.000000   \n",
       "2       0.000000  0.000000  0.000000  ...  0.000125  0.000000  0.000000   \n",
       "3       0.000000  0.000000  0.000000  ... -0.000125  0.000125  0.000000   \n",
       "4       0.000000  0.000000  0.000000  ...  0.000000 -0.000125  0.000125   \n",
       "...          ...       ...       ...  ...       ...       ...       ...   \n",
       "267321 -0.000391  0.000130  0.000195  ... -0.000114  0.000000  0.000000   \n",
       "267322 -0.000782 -0.000391  0.000130  ...  0.000000 -0.000114  0.000000   \n",
       "267323  0.000196 -0.000782 -0.000391  ...  0.000236  0.000000 -0.000114   \n",
       "267324  0.000456  0.000196 -0.000782  ...  0.000114  0.000236  0.000000   \n",
       "267325 -0.000130  0.000456  0.000196  ...  0.000000  0.000114  0.000236   \n",
       "\n",
       "          Note_4    Note_5    Note_6    Note_7    Note_8  Note_9   Note_10  \n",
       "0       0.000000  0.000000  0.000000  0.000000  0.000000     0.0  0.000000  \n",
       "1       0.000000  0.000000  0.000000  0.000000  0.000000     0.0  0.000000  \n",
       "2       0.000000  0.000000  0.000000  0.000000  0.000000     0.0  0.000000  \n",
       "3       0.000000  0.000000  0.000000  0.000000  0.000000     0.0  0.000000  \n",
       "4       0.000000  0.000000  0.000000  0.000000  0.000000     0.0  0.000000  \n",
       "...          ...       ...       ...       ...       ...     ...       ...  \n",
       "267321 -0.000357  0.000000  0.000000  0.000000  0.000000     0.0 -0.000122  \n",
       "267322  0.000000 -0.000357  0.000000  0.000000  0.000000     0.0  0.000000  \n",
       "267323  0.000000  0.000000 -0.000357  0.000000  0.000000     0.0  0.000000  \n",
       "267324 -0.000114  0.000000  0.000000 -0.000357  0.000000     0.0  0.000000  \n",
       "267325  0.000000 -0.000114  0.000000  0.000000 -0.000357     0.0  0.000000  \n",
       "\n",
       "[266830 rows x 33 columns]"
      ]
     },
     "execution_count": 21,
     "metadata": {},
     "output_type": "execute_result"
    }
   ],
   "source": [
    "data_ = pd.DataFrame()\n",
    "number_of_lags = 10\n",
    "for j in ticker_names:\n",
    "    for i in range(0,number_of_lags + 1):\n",
    "        data_[j + \"_\"+str(i)] = data_copy.loc[:,j + \"_Delta\"].shift(i, fill_value = 0)\n",
    "\n",
    "data_"
   ]
  },
  {
   "cell_type": "markdown",
   "id": "4a6bb9eb-efe8-4a5b-8a26-14e2fde778b2",
   "metadata": {},
   "source": [
    "### Тренировочная/Тестовая выборка"
   ]
  },
  {
   "cell_type": "markdown",
   "id": "857f95b3-3e07-457b-b55b-30a158a2f5a1",
   "metadata": {},
   "source": [
    "Разделим данные на train/test в соотношении 70/30 <br>\n",
    "Тестовые данные будут необходимы для проверки полученных зависимостей"
   ]
  },
  {
   "cell_type": "code",
   "execution_count": 22,
   "id": "a591093a-fccd-4539-a793-75065659014b",
   "metadata": {},
   "outputs": [],
   "source": [
    "train = data_.iloc[:round(len(data) * 0.7),:]\n",
    "test = data_.iloc[round(len(data) * 0.7):,:]"
   ]
  },
  {
   "cell_type": "markdown",
   "id": "0a9e7367-0ae6-4221-b670-3c879bf0301d",
   "metadata": {},
   "source": [
    "### Матрица корреляций"
   ]
  },
  {
   "cell_type": "markdown",
   "id": "e1493757-ce29-4fa2-a7d4-ffe2ef5711c6",
   "metadata": {},
   "source": [
    "Чтобы не перегружать диаграмму выведем только корреляции текущих значений и 3 предыдущих лагов для всех инструментов <br> <br>\n",
    "К сожалению, матрица корреляций не содержит информации, подтверждающей возможную лаговую зависимость между инструментами"
   ]
  },
  {
   "cell_type": "code",
   "execution_count": 23,
   "id": "0695856e-71b3-4d18-9567-d5bc4262b864",
   "metadata": {},
   "outputs": [
    {
     "data": {
      "image/png": "[encoded data removed]",
      "text/plain": [
       "<Figure size 864x864 with 2 Axes>"
      ]
     },
     "metadata": {
      "needs_background": "light"
     },
     "output_type": "display_data"
    }
   ],
   "source": [
    "fig, ax = plt.subplots(figsize=(12, 12))\n",
    "cols = []\n",
    "for i in ticker_names:\n",
    "    for j  in range(0,4):\n",
    "        cols.append(i + \"_\" +  str(j))\n",
    "corr = train.loc[:,cols].corr()\n",
    "sb.heatmap(corr, cmap=\"Blues\", annot=True)\n",
    "plt.show()"
   ]
  },
  {
   "cell_type": "markdown",
   "id": "e2e6524d-3197-456b-b3b3-4111d82ccc86",
   "metadata": {},
   "source": [
    "### Distributed Lag Model"
   ]
  },
  {
   "cell_type": "markdown",
   "id": "7f71df78-7b6b-47d0-93d8-c8865cbcc9d0",
   "metadata": {},
   "source": [
    "В качестве модели для поиска лаговой зависимости использовалась классическая линейная регрессия\n",
    "Это не самый точный метод, однако она отлично подходит для создания базовой модели и не требует дополнительной настройки параметров"
   ]
  },
  {
   "cell_type": "code",
   "execution_count": 24,
   "id": "f5c24152-d96b-4b24-8143-87ef1de6907a",
   "metadata": {},
   "outputs": [],
   "source": [
    "import statsmodels.formula.api as smf\n",
    "# Создаем массив, куда будут сохраняться модели\n",
    "models = []\n",
    "for i in ticker_names:\n",
    "    # Задаем формулу регрессии\n",
    "    formula = i + \"_0 ~ 1 + \"\n",
    "    for t in ticker_names:\n",
    "        for j in range(1,number_of_lags + 1):\n",
    "            if t != i:\n",
    "                # Например, для China формула будет выглядеть:\n",
    "                # China_0 = 1 + SP500_1 + SP500_2 + ... + Note_10\n",
    "                formula += \"+\" + t + \"_\" + str(j) + \" \"\n",
    "    \n",
    "    model = smf.ols(formula = formula, data = train)\n",
    "    model = model.fit()\n",
    "    # Записываем полученную модель в массив\n",
    "    models.append(model)"
   ]
  },
  {
   "cell_type": "markdown",
   "id": "c3233659-ca0b-424d-834f-834fd6aaab8c",
   "metadata": {
    "tags": []
   },
   "source": [
    "#### Регрессия для Шанхая"
   ]
  },
  {
   "cell_type": "markdown",
   "id": "9d18a3eb-f9a5-4343-b98f-ca63f807d530",
   "metadata": {},
   "source": [
    "Несмотря на то, что R-squared совсем незначительный, коэффициенты S&P500 выглядят статистически значимыми <br>\n",
    "Могу предположить, что используя S&P500 можно улучшить прогноз Шанхайского индекса, в то время как облигации почти не имеют смысла"
   ]
  },
  {
   "cell_type": "code",
   "execution_count": 25,
   "id": "75f1e5bd-b838-4dea-8fd8-d9ea5f6e9e5f",
   "metadata": {},
   "outputs": [
    {
     "name": "stdout",
     "output_type": "stream",
     "text": [
      "                            OLS Regression Results                            \n",
      "==============================================================================\n",
      "Dep. Variable:                China_0   R-squared:                       0.002\n",
      "Model:                            OLS   Adj. R-squared:                  0.002\n",
      "Method:                 Least Squares   F-statistic:                     16.99\n",
      "Date:                Sat, 12 Mar 2022   Prob (F-statistic):           6.35e-60\n",
      "Time:                        20:08:57   Log-Likelihood:             1.2420e+06\n",
      "No. Observations:              186781   AIC:                        -2.484e+06\n",
      "Df Residuals:                  186760   BIC:                        -2.484e+06\n",
      "Df Model:                          20                                         \n",
      "Covariance Type:            nonrobust                                         \n",
      "==============================================================================\n",
      "                 coef    std err          t      P>|t|      [0.025      0.975]\n",
      "------------------------------------------------------------------------------\n",
      "Intercept   1.073e-06   7.25e-07      1.479      0.139   -3.49e-07    2.49e-06\n",
      "SP500_1        0.0185      0.001     14.148      0.000       0.016       0.021\n",
      "SP500_2       -0.0057      0.001     -4.383      0.000      -0.008      -0.003\n",
      "SP500_3       -0.0039      0.001     -3.006      0.003      -0.007      -0.001\n",
      "SP500_4        0.0027      0.001      2.096      0.036       0.000       0.005\n",
      "SP500_5       -0.0048      0.001     -3.656      0.000      -0.007      -0.002\n",
      "SP500_6        0.0049      0.001      3.737      0.000       0.002       0.007\n",
      "SP500_7        0.0034      0.001      2.563      0.010       0.001       0.006\n",
      "SP500_8       -0.0026      0.001     -1.980      0.048      -0.005   -2.61e-05\n",
      "SP500_9       -0.0084      0.001     -6.397      0.000      -0.011      -0.006\n",
      "SP500_10       0.0044      0.001      3.330      0.001       0.002       0.007\n",
      "Note_1         0.0072      0.007      1.004      0.316      -0.007       0.021\n",
      "Note_2         0.0102      0.007      1.396      0.163      -0.004       0.025\n",
      "Note_3         0.0165      0.007      2.251      0.024       0.002       0.031\n",
      "Note_4        -0.0038      0.007     -0.519      0.604      -0.018       0.011\n",
      "Note_5         0.0034      0.007      0.465      0.642      -0.011       0.018\n",
      "Note_6         0.0058      0.007      0.790      0.429      -0.009       0.020\n",
      "Note_7         0.0056      0.007      0.768      0.442      -0.009       0.020\n",
      "Note_8         0.0049      0.007      0.674      0.500      -0.009       0.019\n",
      "Note_9         0.0019      0.007      0.258      0.796      -0.012       0.016\n",
      "Note_10        0.0074      0.007      1.032      0.302      -0.007       0.022\n",
      "==============================================================================\n",
      "Omnibus:                    69098.841   Durbin-Watson:                   2.090\n",
      "Prob(Omnibus):                  0.000   Jarque-Bera (JB):         11258916.692\n",
      "Skew:                           0.686   Prob(JB):                         0.00\n",
      "Kurtosis:                      41.011   Cond. No.                     1.23e+04\n",
      "==============================================================================\n",
      "\n",
      "Notes:\n",
      "[1] Standard Errors assume that the covariance matrix of the errors is correctly specified.\n",
      "[2] The condition number is large, 1.23e+04. This might indicate that there are\n",
      "strong multicollinearity or other numerical problems.\n"
     ]
    }
   ],
   "source": [
    "print(models[0].summary())"
   ]
  },
  {
   "cell_type": "markdown",
   "id": "81327c10-e141-4284-8cdd-d945d50ad289",
   "metadata": {},
   "source": [
    "#### Регрессия для S&P500"
   ]
  },
  {
   "cell_type": "markdown",
   "id": "d976bb8c-a25f-4ea5-9726-416dcc215dc1",
   "metadata": {},
   "source": [
    "Есть пару значимых коэффициентов, однако модель выглядит намного слабее в сравнении с предыдущей <br>\n",
    "Поэтому данная модель не будет использоваться для дальнейшего анализа и фокус будет направлен на исследование зависимости Шанхая от Америки"
   ]
  },
  {
   "cell_type": "code",
   "execution_count": 26,
   "id": "ccc52183-601f-4dde-8723-5c0da004b150",
   "metadata": {},
   "outputs": [
    {
     "name": "stdout",
     "output_type": "stream",
     "text": [
      "                            OLS Regression Results                            \n",
      "==============================================================================\n",
      "Dep. Variable:                SP500_0   R-squared:                       0.001\n",
      "Model:                            OLS   Adj. R-squared:                  0.001\n",
      "Method:                 Least Squares   F-statistic:                     9.201\n",
      "Date:                Sat, 12 Mar 2022   Prob (F-statistic):           1.64e-28\n",
      "Time:                        20:08:57   Log-Likelihood:             1.1332e+06\n",
      "No. Observations:              186781   AIC:                        -2.266e+06\n",
      "Df Residuals:                  186760   BIC:                        -2.266e+06\n",
      "Df Model:                          20                                         \n",
      "Covariance Type:            nonrobust                                         \n",
      "==============================================================================\n",
      "                 coef    std err          t      P>|t|      [0.025      0.975]\n",
      "------------------------------------------------------------------------------\n",
      "Intercept   1.453e-06    1.3e-06      1.119      0.263   -1.09e-06       4e-06\n",
      "China_1        0.0356      0.004      8.529      0.000       0.027       0.044\n",
      "China_2       -0.0080      0.004     -1.909      0.056      -0.016       0.000\n",
      "China_3        0.0003      0.004      0.083      0.934      -0.008       0.009\n",
      "China_4        0.0005      0.004      0.111      0.912      -0.008       0.009\n",
      "China_5        0.0029      0.004      0.690      0.490      -0.005       0.011\n",
      "China_6        0.0090      0.004      2.168      0.030       0.001       0.017\n",
      "China_7        0.0118      0.004      2.821      0.005       0.004       0.020\n",
      "China_8        0.0053      0.004      1.283      0.200      -0.003       0.014\n",
      "China_9       -0.0303      0.004     -7.259      0.000      -0.038      -0.022\n",
      "China_10       0.0023      0.004      0.548      0.584      -0.006       0.010\n",
      "Note_1         0.0033      0.013      0.260      0.795      -0.022       0.028\n",
      "Note_2         0.0355      0.013      2.730      0.006       0.010       0.061\n",
      "Note_3         0.0411      0.013      3.155      0.002       0.016       0.067\n",
      "Note_4         0.0288      0.013      2.212      0.027       0.003       0.054\n",
      "Note_5         0.0036      0.013      0.277      0.782      -0.022       0.029\n",
      "Note_6        -0.0055      0.013     -0.423      0.672      -0.031       0.020\n",
      "Note_7         0.0090      0.013      0.687      0.492      -0.017       0.034\n",
      "Note_8         0.0471      0.013      3.613      0.000       0.022       0.073\n",
      "Note_9         0.0158      0.013      1.216      0.224      -0.010       0.041\n",
      "Note_10        0.0217      0.013      1.692      0.091      -0.003       0.047\n",
      "==============================================================================\n",
      "Omnibus:                    71936.219   Durbin-Watson:                   2.000\n",
      "Prob(Omnibus):                  0.000   Jarque-Bera (JB):         22697858.277\n",
      "Skew:                           0.575   Prob(JB):                         0.00\n",
      "Kurtosis:                      56.992   Cond. No.                     1.22e+04\n",
      "==============================================================================\n",
      "\n",
      "Notes:\n",
      "[1] Standard Errors assume that the covariance matrix of the errors is correctly specified.\n",
      "[2] The condition number is large, 1.22e+04. This might indicate that there are\n",
      "strong multicollinearity or other numerical problems.\n"
     ]
    }
   ],
   "source": [
    "print(models[1].summary())"
   ]
  },
  {
   "cell_type": "markdown",
   "id": "d96f6ce7-7532-4db3-a362-994b6e26416f",
   "metadata": {},
   "source": [
    "#### Регрессия для Note"
   ]
  },
  {
   "cell_type": "markdown",
   "id": "1258da22-9719-4101-9774-8f94aca0ac4d",
   "metadata": {},
   "source": [
    "Почти все коэффициенты незначимые за исключением ближайших лаговых <br>\n",
    "Нет оснований полагать, что облигации зависят от лаговых значений индексов, за исключением ближайших лагов\n"
   ]
  },
  {
   "cell_type": "code",
   "execution_count": 27,
   "id": "5be2c15f-3b92-4197-bbe8-02323df2057c",
   "metadata": {},
   "outputs": [
    {
     "name": "stdout",
     "output_type": "stream",
     "text": [
      "                            OLS Regression Results                            \n",
      "==============================================================================\n",
      "Dep. Variable:                 Note_0   R-squared:                       0.001\n",
      "Model:                            OLS   Adj. R-squared:                  0.000\n",
      "Method:                 Least Squares   F-statistic:                     5.138\n",
      "Date:                Sat, 12 Mar 2022   Prob (F-statistic):           4.07e-13\n",
      "Time:                        20:08:57   Log-Likelihood:             1.4486e+06\n",
      "No. Observations:              186781   AIC:                        -2.897e+06\n",
      "Df Residuals:                  186760   BIC:                        -2.897e+06\n",
      "Df Model:                          20                                         \n",
      "Covariance Type:            nonrobust                                         \n",
      "==============================================================================\n",
      "                 coef    std err          t      P>|t|      [0.025      0.975]\n",
      "------------------------------------------------------------------------------\n",
      "Intercept  -1.237e-07    2.4e-07     -0.516      0.606   -5.94e-07    3.46e-07\n",
      "China_1        0.0031      0.001      3.004      0.003       0.001       0.005\n",
      "China_2        0.0012      0.001      1.168      0.243      -0.001       0.003\n",
      "China_3       -0.0002      0.001     -0.219      0.827      -0.002       0.002\n",
      "China_4        0.0012      0.001      1.100      0.271      -0.001       0.003\n",
      "China_5       -0.0012      0.001     -1.187      0.235      -0.003       0.001\n",
      "China_6       -0.0004      0.001     -0.381      0.703      -0.002       0.002\n",
      "China_7       -0.0019      0.001     -1.792      0.073      -0.004       0.000\n",
      "China_8       -0.0013      0.001     -1.285      0.199      -0.003       0.001\n",
      "China_9        0.0007      0.001      0.715      0.475      -0.001       0.003\n",
      "China_10      -0.0028      0.001     -2.720      0.007      -0.005      -0.001\n",
      "SP500_1       -0.0046      0.001     -7.938      0.000      -0.006      -0.003\n",
      "SP500_2       -0.0002      0.001     -0.378      0.705      -0.001       0.001\n",
      "SP500_3       -0.0004      0.001     -0.766      0.444      -0.002       0.001\n",
      "SP500_4        0.0006      0.001      0.995      0.320      -0.001       0.002\n",
      "SP500_5     1.834e-05      0.001      0.031      0.975      -0.001       0.001\n",
      "SP500_6        0.0004      0.001      0.602      0.547      -0.001       0.001\n",
      "SP500_7        0.0005      0.001      0.800      0.423      -0.001       0.002\n",
      "SP500_8        0.0003      0.001      0.486      0.627      -0.001       0.001\n",
      "SP500_9        0.0002      0.001      0.273      0.785      -0.001       0.001\n",
      "SP500_10       0.0002      0.001      0.325      0.745      -0.001       0.001\n",
      "==============================================================================\n",
      "Omnibus:                   208762.468   Durbin-Watson:                   2.344\n",
      "Prob(Omnibus):                  0.000   Jarque-Bera (JB):       1114020868.299\n",
      "Skew:                          -4.446   Prob(JB):                         0.00\n",
      "Kurtosis:                     381.239   Cond. No.                     5.29e+03\n",
      "==============================================================================\n",
      "\n",
      "Notes:\n",
      "[1] Standard Errors assume that the covariance matrix of the errors is correctly specified.\n",
      "[2] The condition number is large, 5.29e+03. This might indicate that there are\n",
      "strong multicollinearity or other numerical problems.\n"
     ]
    }
   ],
   "source": [
    "print(models[2].summary())"
   ]
  },
  {
   "cell_type": "markdown",
   "id": "86e1b8a1-3ef3-4caa-8178-1896b4d77ca4",
   "metadata": {},
   "source": [
    "#### Сокращенная модель для Шанхая"
   ]
  },
  {
   "cell_type": "markdown",
   "id": "8cd1d683-176c-4b3f-8b4c-78b492c2e780",
   "metadata": {},
   "source": [
    "Выбросим из первой регрессии незначимые лаговые значения облигаций и intercept, так как они вероятнее всего не улучшают качество предсказаний\n",
    "\n",
    "В новой модели все коэффициенты модели значимы, хотя R^2 до сих пор не очень высок"
   ]
  },
  {
   "cell_type": "code",
   "execution_count": 28,
   "id": "e8564a44-ff69-49c0-a6e0-fb750596da9a",
   "metadata": {},
   "outputs": [
    {
     "name": "stdout",
     "output_type": "stream",
     "text": [
      "                                 OLS Regression Results                                \n",
      "=======================================================================================\n",
      "Dep. Variable:                China_0   R-squared (uncentered):                   0.002\n",
      "Model:                            OLS   Adj. R-squared (uncentered):              0.002\n",
      "Method:                 Least Squares   F-statistic:                              32.99\n",
      "Date:                Sat, 12 Mar 2022   Prob (F-statistic):                    8.48e-65\n",
      "Time:                        20:08:57   Log-Likelihood:                      1.2420e+06\n",
      "No. Observations:              186781   AIC:                                 -2.484e+06\n",
      "Df Residuals:                  186771   BIC:                                 -2.484e+06\n",
      "Df Model:                          10                                                  \n",
      "Covariance Type:            nonrobust                                                  \n",
      "==============================================================================\n",
      "                 coef    std err          t      P>|t|      [0.025      0.975]\n",
      "------------------------------------------------------------------------------\n",
      "SP500_1        0.0183      0.001     14.174      0.000       0.016       0.021\n",
      "SP500_2       -0.0060      0.001     -4.667      0.000      -0.009      -0.003\n",
      "SP500_3       -0.0044      0.001     -3.414      0.001      -0.007      -0.002\n",
      "SP500_4        0.0028      0.001      2.174      0.030       0.000       0.005\n",
      "SP500_5       -0.0049      0.001     -3.762      0.000      -0.007      -0.002\n",
      "SP500_6        0.0047      0.001      3.660      0.000       0.002       0.007\n",
      "SP500_7        0.0032      0.001      2.482      0.013       0.001       0.006\n",
      "SP500_8       -0.0027      0.001     -2.127      0.033      -0.005      -0.000\n",
      "SP500_9       -0.0084      0.001     -6.526      0.000      -0.011      -0.006\n",
      "SP500_10       0.0041      0.001      3.206      0.001       0.002       0.007\n",
      "==============================================================================\n",
      "Omnibus:                    69190.788   Durbin-Watson:                   2.090\n",
      "Prob(Omnibus):                  0.000   Jarque-Bera (JB):         11282443.029\n",
      "Skew:                           0.688   Prob(JB):                         0.00\n",
      "Kurtosis:                      41.050   Cond. No.                         1.05\n",
      "==============================================================================\n",
      "\n",
      "Notes:\n",
      "[1] R² is computed without centering (uncentered) since the model does not contain a constant.\n",
      "[2] Standard Errors assume that the covariance matrix of the errors is correctly specified.\n"
     ]
    }
   ],
   "source": [
    "formula = \"China\" + \"_0 ~ 0 \"\n",
    "\n",
    "for j in range(1,number_of_lags + 1):\n",
    "    formula += \"+\" + \"SP500\" + \"_\" + str(j) + \" \"\n",
    "\n",
    "    \n",
    "model_regr = smf.ols(formula = formula, data = train)\n",
    "model_regr = model_regr.fit()\n",
    "\n",
    "print(model_regr.summary())"
   ]
  },
  {
   "cell_type": "markdown",
   "id": "52ae24d7-a57c-4b43-a4ea-9ebcf170e28a",
   "metadata": {},
   "source": [
    "## Тестирование"
   ]
  },
  {
   "cell_type": "markdown",
   "id": "cee3856b-7037-44f0-a2a0-0034d9cec643",
   "metadata": {},
   "source": [
    "### Прогноз"
   ]
  },
  {
   "cell_type": "markdown",
   "id": "ceb95298-22b4-4e7e-b466-8507f239c1e2",
   "metadata": {},
   "source": [
    "Большинство торговых моделей ставит перед собой цели предсказания размера изменений цены, а не направление изменения <br>\n",
    "Причина этого проста: 9 правильных прогнозов могут легко перекрыться одной убыточной сделкой <br>\n",
    "\n",
    "Однако, в качестве метрики для исследования существования лаговой зависимости я буду использовать точность предсказания изменения цены <br>\n",
    "Такая метрика более чем подходит для установления существования связи, но для разработки торговой системы лучше было бы использовать метрики прибыли, максимальной просадки и прочие подобные метрики\n"
   ]
  },
  {
   "cell_type": "markdown",
   "id": "6b17aa03-b9e4-45fd-9b6e-d5700b4e4341",
   "metadata": {},
   "source": [
    "Для оценки лаговой зависимости использовался следующий алгоритм: <br>\n",
    "\n",
    "1) Сделать прогноз зависимой переменной(China_0) на тестовой выборке  <br>\n",
    "\n",
    "2) Найти индексы фактического значения зависимой переменной ind_, для которых она не равна 0 <br>\n",
    "\n",
    "3) Для ненулевых значений зависимой переменной определить направление их изменений y_true_dir: 0, если меньше 0; 1, если больше 0<br>\n",
    "\n",
    "4) Выбрать прогнозы с индексами равными ind_ и определить направление их изменений y_pred_dir: 0, если меньше 0; 1, если больше 0<br>\n",
    "\n",
    "5) Использовать y_true_dir и y_pred_dir для высчитывания метрик"
   ]
  },
  {
   "cell_type": "code",
   "execution_count": 29,
   "id": "c3a5984e-4444-4bd6-8a9d-2ce8718316ad",
   "metadata": {},
   "outputs": [],
   "source": [
    "# Функция получения направления для ненулевых фактических значений и соответствующих прогнозов\n",
    "def categorization_non_zero(y_true, y_pred):\n",
    "    \n",
    "    y_true_non_zero = [1 if i > 0 else 0 for i in y_true[y_true != 0]]\n",
    "    y_pred_non_zero = [1 if i > 0 else 0 for i in y_pred[y_true != 0]]\n",
    "\n",
    "    \n",
    "    return y_true_non_zero, y_pred_non_zero"
   ]
  },
  {
   "cell_type": "code",
   "execution_count": 30,
   "id": "0bdfe74e-84df-40ba-8d13-a6b122f24e0e",
   "metadata": {},
   "outputs": [],
   "source": [
    "# Функция для отрисовки confusion matrix в процентах\n",
    "def confuse_matrix(y_true, y_pred):\n",
    "    cf_matrix = confusion_matrix(y_true, y_pred)/ len(y_pred)\n",
    "    ax = sb.heatmap(cf_matrix, annot=True, cmap='Blues',fmt='.2%')\n",
    "\n",
    "    ax.set_title('Confusion matrix for Direction');\n",
    "    ax.set_xlabel('Predicted Direction')\n",
    "    ax.set_ylabel('Actual Direction');\n",
    "\n",
    "    ax.xaxis.set_ticklabels(['Fall', \"Growth\"])\n",
    "    ax.yaxis.set_ticklabels(['Fall', \"Growth\"])\n",
    "    \n",
    "    plt.show()"
   ]
  },
  {
   "cell_type": "code",
   "execution_count": 31,
   "id": "fdf64219-5e88-4c8e-a782-c7e15e82388f",
   "metadata": {},
   "outputs": [
    {
     "data": {
      "image/png": "[encoded data removed]",
      "text/plain": [
       "<Figure size 432x288 with 2 Axes>"
      ]
     },
     "metadata": {
      "needs_background": "light"
     },
     "output_type": "display_data"
    }
   ],
   "source": [
    "y_true_dir, y_pred_dir = categorization_non_zero(test[\"China_0\"], model_regr.predict(test))\n",
    "confuse_matrix(y_true_dir, y_pred_dir)"
   ]
  },
  {
   "cell_type": "code",
   "execution_count": 32,
   "id": "aeaa0f2b-87a0-4cbf-a296-097d6e190d2c",
   "metadata": {},
   "outputs": [
    {
     "name": "stdout",
     "output_type": "stream",
     "text": [
      "Количество ненулевых фактических значений - 60303\n"
     ]
    }
   ],
   "source": [
    "print(\"Количество ненулевых фактических значений -\",len(y_true_dir))"
   ]
  },
  {
   "cell_type": "markdown",
   "id": "e169055c-c99d-44cd-9e90-2fbf79943c3f",
   "metadata": {},
   "source": [
    "Как можно увидеть из confusion matrix модель не дает огромных значений accuracy или precision <br>\n",
    "Данный результат ожидаем, если вспомнить R^2 равный всего лишь 0.002 <br>\n",
    "Иными словами, модель помогает объяснить 0.2% колебаний цен <br>\n",
    "Однако, модель лучше чем наугад определяет фазы роста 50.2%(25.33 vs 25.08) и еще лучше фазы падения 50.8%(25.22 vs 24.37)"
   ]
  },
  {
   "cell_type": "markdown",
   "id": "91315753-d136-4b05-9e22-58fbe1970ad3",
   "metadata": {},
   "source": [
    "### Проверка статистической значимости результата"
   ]
  },
  {
   "cell_type": "markdown",
   "id": "34362d52-8746-4856-9a45-2929ccbe1ec8",
   "metadata": {},
   "source": [
    "Проверим статистическую значимость результатов нашей модели <br>\n",
    "В качестве метрики будет использоваться классическая точность <br> \n",
    "\n",
    "Поскольку наша модель не делает перекос прогнозов в отношении какого-либо класса, то я считаю что для проверки значимости результата мы можем предпологать, что случайное гадание между ростом и падением дало бы нам точность в 50% <br>\n",
    "\n",
    "Данную оговорку я делаю, так как в случае если бы наша модель всегда предсказывала рост, то ее точность на этих данных составлила 50.4%, однако данный результат был бы получен благодаря небольшому дисбалансу между классами <br>"
   ]
  },
  {
   "cell_type": "markdown",
   "id": "402143a6-dac0-4846-9430-1efa63233c9d",
   "metadata": {},
   "source": [
    "Тестирование гипотезы о пропорции:\n",
    "\n",
    "$$ H_0: p = 0.5 $$\n",
    "$$ H_a: p > 0.5 $$\n",
    "\n",
    "$$ z-stat = \\frac{\\hat{p} - p}{\\sqrt{\\frac{p*q}{n}}} = \\frac{0.5055 - 0.5}{\\sqrt{\\frac{0.5*0.5}{60303}}} = 2.7$$\n",
    "\n"
   ]
  },
  {
   "cell_type": "markdown",
   "id": "5920687e-8c1e-48b1-8e43-711f3620dacb",
   "metadata": {},
   "source": [
    "$$ P-value = P(z-stat < Z) = P(2.7 < Z) = 1 - Ф(2.7) = 0.0034$$"
   ]
  },
  {
   "cell_type": "markdown",
   "id": "9d49aa60-8058-4346-851c-57b7a0a8823a",
   "metadata": {},
   "source": [
    "Таким образом, нулевая гипотеза отвергается <br>\n",
    "И существуют статистически значимые доказательства того, что точность предсказания модели выше случайного гадания"
   ]
  },
  {
   "cell_type": "markdown",
   "id": "3ecbd8da-d6d8-405f-b02a-57d0a15f213d",
   "metadata": {},
   "source": [
    "## Заключение"
   ]
  },
  {
   "cell_type": "markdown",
   "id": "a6a754c6-c1c8-4c81-b92e-445d8de21442",
   "metadata": {},
   "source": [
    "В исследовании самой большой сложностью была обработка начальных данных, так как они содержали большое количество пропущенных значений <br>\n",
    "Для решения этой проблемы использовалась дифференциация логарифмов временных рядов <br>\n",
    "А также использовались был выбран участок времени с 6 утра до 15 дня как равномерный участок с наименьшим процентом пропущенных данных \n",
    "\n",
    "Для проверки существования лаговой зависимости между инструментами использовалась линейная регрессия\n",
    "\n",
    "В результате исследования я пришел к выводу, что существует лаговая зависимость Шанхайского индекса от Американского фондового рынка <br>\n",
    "Хотя найденная зависимость не может объяснить большую часть изменений цен, однако она имеет статистически значимый эффект <br>\n",
    "\n",
    "Вероятно, можно улучшить модель для предсказания Шанхайского индекса путем добавления лаговых Шанхайских значений, но в поставленной задаче необходимо было исследовать зависимость между различными инструментами <br>"
   ]
  },
  {
   "cell_type": "markdown",
   "id": "49f0a07e-4fca-4388-a3fa-5e7fb4a4fa88",
   "metadata": {},
   "source": [
    "## Направления для дальнейшей работы"
   ]
  },
  {
   "cell_type": "markdown",
   "id": "4157f5e7-99e8-4a8c-b535-56c3c77f642a",
   "metadata": {},
   "source": [
    "Дальнейшая работа может вестись в следующих направлениях: <br>\n",
    "\n",
    "1) Использовать для анализа всю временную кривую, а не только время с 6 до 15 <br>\n",
    "\n",
    "2) Использовать более продвинутые инструменты прогнозирования: различные модели бустинга и нейронные сети (CNN) <br>\n",
    "\n",
    "3) Расширить количество доступных инструментов \n",
    "\n",
    "\n",
    "P.S. Я очень старался при выполнении тестового задания и в некоторых моментах использовал не самые распространенные и очевидные решения <br>\n",
    "Поэтому я бы очень услышать критику о релевантности такого решения\n"
   ]
  }
 ],
 "metadata": {
  "kernelspec": {
   "display_name": "Python 3 (ipykernel)",
   "language": "python",
   "name": "python3"
  },
  "language_info": {
   "codemirror_mode": {
    "name": "ipython",
    "version": 3
   },
   "file_extension": ".py",
   "mimetype": "text/x-python",
   "name": "python",
   "nbconvert_exporter": "python",
   "pygments_lexer": "ipython3",
   "version": "3.9.0"
  },
  "toc-autonumbering": false
 },
 "nbformat": 4,
 "nbformat_minor": 5
}
